{
 "cells": [
  {
   "cell_type": "markdown",
   "metadata": {},
   "source": [
    "### K-Means"
   ]
  },
  {
   "cell_type": "code",
   "execution_count": 17,
   "metadata": {},
   "outputs": [],
   "source": [
    "import matplotlib as mpl\n",
    "import matplotlib.pyplot as plt\n",
    "\n",
    "from sklearn.datasets import make_blobs\n",
    "import numpy as np"
   ]
  },
  {
   "cell_type": "code",
   "execution_count": 18,
   "metadata": {},
   "outputs": [],
   "source": [
    "blob_centers = np.array(\n",
    "    [[ 0.2,  2.3],\n",
    "     [-1.5 ,  2.3],\n",
    "     [-2.8,  1.8],\n",
    "     [-2.8,  2.8],\n",
    "     [-2.8,  1.3]])\n",
    "blob_std = np.array([0.4, 0.3, 0.1, 0.1, 0.1])"
   ]
  },
  {
   "cell_type": "code",
   "execution_count": 19,
   "metadata": {},
   "outputs": [],
   "source": [
    "X,y = make_blobs(n_samples=2000, centers=blob_centers, cluster_std=blob_std, random_state=7)"
   ]
  },
  {
   "cell_type": "code",
   "execution_count": 20,
   "metadata": {},
   "outputs": [],
   "source": [
    "def plot_clusters(X, y=None):\n",
    "    plt.scatter(X[:, 0], X[:, 1], c=y, s=1)\n",
    "    plt.xlabel(\"$x_1$\", fontsize=14)\n",
    "    plt.ylabel(\"$x_2$\", fontsize=14, rotation=0)"
   ]
  },
  {
   "cell_type": "code",
   "execution_count": 21,
   "metadata": {},
   "outputs": [
    {
     "data": {
      "image/png": "[encoded data removed]",
      "text/plain": [
       "<Figure size 576x288 with 1 Axes>"
      ]
     },
     "metadata": {
      "needs_background": "light"
     },
     "output_type": "display_data"
    }
   ],
   "source": [
    "plt.figure(figsize=(8,4))\n",
    "plot_clusters(X)\n",
    "plt.show()"
   ]
  },
  {
   "cell_type": "code",
   "execution_count": 22,
   "metadata": {},
   "outputs": [],
   "source": [
    "from sklearn.cluster import KMeans"
   ]
  },
  {
   "cell_type": "code",
   "execution_count": 23,
   "metadata": {},
   "outputs": [],
   "source": [
    "k = 5 "
   ]
  },
  {
   "cell_type": "code",
   "execution_count": 24,
   "metadata": {},
   "outputs": [],
   "source": [
    "k_means = KMeans(n_clusters=k, random_state=42)"
   ]
  },
  {
   "cell_type": "code",
   "execution_count": 25,
   "metadata": {},
   "outputs": [],
   "source": [
    "y_pred = k_means.fit_predict(X)"
   ]
  },
  {
   "cell_type": "code",
   "execution_count": 26,
   "metadata": {},
   "outputs": [
    {
     "data": {
      "text/plain": [
       "array([4, 0, 1, ..., 2, 1, 0], dtype=int32)"
      ]
     },
     "execution_count": 26,
     "metadata": {},
     "output_type": "execute_result"
    }
   ],
   "source": [
    "y_pred"
   ]
  },
  {
   "cell_type": "code",
   "execution_count": 27,
   "metadata": {},
   "outputs": [
    {
     "data": {
      "text/plain": [
       "array([[-2.80389616,  1.80117999],\n",
       "       [ 0.20876306,  2.25551336],\n",
       "       [-2.79290307,  2.79641063],\n",
       "       [-1.46679593,  2.28585348],\n",
       "       [-2.80037642,  1.30082566]])"
      ]
     },
     "execution_count": 27,
     "metadata": {},
     "output_type": "execute_result"
    }
   ],
   "source": [
    "k_means.cluster_centers_"
   ]
  },
  {
   "cell_type": "code",
   "execution_count": 28,
   "metadata": {},
   "outputs": [
    {
     "data": {
      "text/plain": [
       "array([1, 1, 2, 2], dtype=int32)"
      ]
     },
     "execution_count": 28,
     "metadata": {},
     "output_type": "execute_result"
    }
   ],
   "source": [
    "X_new = np.array([[0, 2], [3, 2], [-3, 3], [-3, 2.5]])\n",
    "k_means.predict(X_new)"
   ]
  },
  {
   "cell_type": "markdown",
   "metadata": {},
   "source": [
    "In the KMeans class, the transform() method measures the distance from each instance to every centroid"
   ]
  },
  {
   "cell_type": "code",
   "execution_count": 29,
   "metadata": {},
   "outputs": [
    {
     "data": {
      "text/plain": [
       "array([[2.81093633, 0.32995317, 2.9042344 , 1.49439034, 2.88633901],\n",
       "       [5.80730058, 2.80290755, 5.84739223, 4.4759332 , 5.84236351],\n",
       "       [1.21475352, 3.29399768, 0.29040966, 1.69136631, 1.71086031],\n",
       "       [0.72581411, 3.21806371, 0.36159148, 1.54808703, 1.21567622]])"
      ]
     },
     "execution_count": 29,
     "metadata": {},
     "output_type": "execute_result"
    }
   ],
   "source": [
    "k_means.transform(X_new)"
   ]
  },
  {
   "cell_type": "code",
   "execution_count": 30,
   "metadata": {},
   "outputs": [
    {
     "data": {
      "text/plain": [
       "211.5985372581684"
      ]
     },
     "execution_count": 30,
     "metadata": {},
     "output_type": "execute_result"
    }
   ],
   "source": [
    "k_means.inertia_"
   ]
  },
  {
   "cell_type": "markdown",
   "metadata": {},
   "source": [
    "### Image Segmentation"
   ]
  },
  {
   "cell_type": "code",
   "execution_count": 37,
   "metadata": {},
   "outputs": [],
   "source": [
    "from matplotlib.image import imread\n",
    "import os"
   ]
  },
  {
   "cell_type": "code",
   "execution_count": 38,
   "metadata": {
    "scrolled": true
   },
   "outputs": [],
   "source": [
    "image = imread(os.path.join(\"images\", \"flowers.jpg\"))"
   ]
  },
  {
   "cell_type": "code",
   "execution_count": 39,
   "metadata": {},
   "outputs": [
    {
     "data": {
      "text/plain": [
       "(2213, 3000, 3)"
      ]
     },
     "execution_count": 39,
     "metadata": {},
     "output_type": "execute_result"
    }
   ],
   "source": [
    "image.shape"
   ]
  },
  {
   "cell_type": "code",
   "execution_count": 40,
   "metadata": {},
   "outputs": [],
   "source": [
    "X = image.reshape(-1, 3)"
   ]
  },
  {
   "cell_type": "code",
   "execution_count": 41,
   "metadata": {},
   "outputs": [
    {
     "data": {
      "text/plain": [
       "(6639000, 3)"
      ]
     },
     "execution_count": 41,
     "metadata": {},
     "output_type": "execute_result"
    }
   ],
   "source": [
    "X.shape"
   ]
  },
  {
   "cell_type": "code",
   "execution_count": 42,
   "metadata": {},
   "outputs": [],
   "source": [
    "kmeans = KMeans(n_clusters=8).fit(X)"
   ]
  },
  {
   "cell_type": "code",
   "execution_count": 43,
   "metadata": {},
   "outputs": [],
   "source": [
    "segmented_img = kmeans.cluster_centers_[kmeans.labels_]"
   ]
  },
  {
   "cell_type": "code",
   "execution_count": 44,
   "metadata": {},
   "outputs": [],
   "source": [
    "segmented_img = segmented_img.reshape(image.shape)"
   ]
  },
  {
   "cell_type": "code",
   "execution_count": 45,
   "metadata": {},
   "outputs": [
    {
     "data": {
      "text/plain": [
       "(2213, 3000, 3)"
      ]
     },
     "execution_count": 45,
     "metadata": {},
     "output_type": "execute_result"
    }
   ],
   "source": [
    "segmented_img.shape"
   ]
  },
  {
   "cell_type": "code",
   "execution_count": 46,
   "metadata": {},
   "outputs": [
    {
     "data": {
      "text/plain": [
       "<matplotlib.image.AxesImage at 0x7fd619ec4f90>"
      ]
     },
     "execution_count": 46,
     "metadata": {},
     "output_type": "execute_result"
    },
    {
     "data": {
      "image/png": "[encoded data removed]",
      "text/plain": [
       "<Figure size 432x288 with 1 Axes>"
      ]
     },
     "metadata": {
      "needs_background": "light"
     },
     "output_type": "display_data"
    }
   ],
   "source": [
    "plt.imshow(image)"
   ]
  },
  {
   "cell_type": "code",
   "execution_count": 47,
   "metadata": {},
   "outputs": [
    {
     "data": {
      "text/plain": [
       "<matplotlib.image.AxesImage at 0x7fd57f620310>"
      ]
     },
     "execution_count": 47,
     "metadata": {},
     "output_type": "execute_result"
    },
    {
     "data": {
      "image/png": "[encoded data removed]",
      "text/plain": [
       "<Figure size 432x288 with 1 Axes>"
      ]
     },
     "metadata": {
      "needs_background": "light"
     },
     "output_type": "display_data"
    }
   ],
   "source": [
    "plt.imshow(segmented_img.astype('uint8'))"
   ]
  },
  {
   "cell_type": "markdown",
   "metadata": {},
   "source": [
    "### Clustering for Preprocessing "
   ]
  },
  {
   "cell_type": "code",
   "execution_count": 48,
   "metadata": {},
   "outputs": [],
   "source": [
    "from sklearn.datasets import load_digits"
   ]
  },
  {
   "cell_type": "code",
   "execution_count": 49,
   "metadata": {},
   "outputs": [],
   "source": [
    "X,y = load_digits(return_X_y=True)"
   ]
  },
  {
   "cell_type": "code",
   "execution_count": 50,
   "metadata": {},
   "outputs": [],
   "source": [
    "from sklearn.model_selection import train_test_split"
   ]
  },
  {
   "cell_type": "code",
   "execution_count": 51,
   "metadata": {},
   "outputs": [],
   "source": [
    "X_train, X_test, y_train, y_test = train_test_split(X,y)"
   ]
  },
  {
   "cell_type": "code",
   "execution_count": 52,
   "metadata": {},
   "outputs": [],
   "source": [
    "from sklearn.linear_model import LogisticRegression"
   ]
  },
  {
   "cell_type": "code",
   "execution_count": 53,
   "metadata": {},
   "outputs": [],
   "source": [
    "log_reg = LogisticRegression(multi_class=\"ovr\", solver=\"lbfgs\", max_iter=5000, random_state=42)"
   ]
  },
  {
   "cell_type": "code",
   "execution_count": 54,
   "metadata": {},
   "outputs": [
    {
     "data": {
      "text/plain": [
       "LogisticRegression(C=1.0, class_weight=None, dual=False, fit_intercept=True,\n",
       "                   intercept_scaling=1, l1_ratio=None, max_iter=5000,\n",
       "                   multi_class='ovr', n_jobs=None, penalty='l2',\n",
       "                   random_state=42, solver='lbfgs', tol=0.0001, verbose=0,\n",
       "                   warm_start=False)"
      ]
     },
     "execution_count": 54,
     "metadata": {},
     "output_type": "execute_result"
    }
   ],
   "source": [
    "log_reg.fit(X_train, y_train)"
   ]
  },
  {
   "cell_type": "code",
   "execution_count": 55,
   "metadata": {},
   "outputs": [
    {
     "data": {
      "text/plain": [
       "0.9711111111111111"
      ]
     },
     "execution_count": 55,
     "metadata": {},
     "output_type": "execute_result"
    }
   ],
   "source": [
    "log_reg.score(X_test, y_test)"
   ]
  },
  {
   "cell_type": "markdown",
   "metadata": {},
   "source": [
    "Use Clusering as perprocessing for logistic regression"
   ]
  },
  {
   "cell_type": "code",
   "execution_count": 70,
   "metadata": {},
   "outputs": [],
   "source": [
    "from sklearn.pipeline import Pipeline"
   ]
  },
  {
   "cell_type": "code",
   "execution_count": 71,
   "metadata": {},
   "outputs": [
    {
     "data": {
      "text/plain": [
       "Pipeline(memory=None,\n",
       "         steps=[('kmeans',\n",
       "                 KMeans(algorithm='auto', copy_x=True, init='k-means++',\n",
       "                        max_iter=300, n_clusters=50, n_init=10, n_jobs=None,\n",
       "                        precompute_distances='auto', random_state=42,\n",
       "                        tol=0.0001, verbose=0)),\n",
       "                ('log_reg',\n",
       "                 LogisticRegression(C=1.0, class_weight=None, dual=False,\n",
       "                                    fit_intercept=True, intercept_scaling=1,\n",
       "                                    l1_ratio=None, max_iter=5000,\n",
       "                                    multi_class='ovr', n_jobs=None,\n",
       "                                    penalty='l2', random_state=42,\n",
       "                                    solver='lbfgs', tol=0.0001, verbose=0,\n",
       "                                    warm_start=False))],\n",
       "         verbose=False)"
      ]
     },
     "execution_count": 71,
     "metadata": {},
     "output_type": "execute_result"
    }
   ],
   "source": [
    "pipeline = Pipeline([\n",
    "    (\"kmeans\", KMeans(n_clusters=50, random_state=42)),\n",
    "    (\"log_reg\", LogisticRegression(multi_class=\"ovr\", solver=\"lbfgs\", max_iter=5000, random_state=42))\n",
    "])\n",
    "\n",
    "pipeline.fit(X_train, y_train)"
   ]
  },
  {
   "cell_type": "code",
   "execution_count": 72,
   "metadata": {},
   "outputs": [
    {
     "data": {
      "text/plain": [
       "0.9777777777777777"
      ]
     },
     "execution_count": 72,
     "metadata": {},
     "output_type": "execute_result"
    }
   ],
   "source": [
    "pipeline.score(X_test, y_test)"
   ]
  },
  {
   "cell_type": "markdown",
   "metadata": {},
   "source": [
    "Grid Search for number of clusters"
   ]
  },
  {
   "cell_type": "code",
   "execution_count": 73,
   "metadata": {},
   "outputs": [],
   "source": [
    "from sklearn.model_selection import GridSearchCV"
   ]
  },
  {
   "cell_type": "code",
   "execution_count": 79,
   "metadata": {},
   "outputs": [
    {
     "name": "stdout",
     "output_type": "stream",
     "text": [
      "Fitting 3 folds for each of 198 candidates, totalling 594 fits\n",
      "[CV] kmeans__n_clusters=2 ............................................\n",
      "[CV] ............................. kmeans__n_clusters=2, total=   0.1s\n",
      "[CV] kmeans__n_clusters=2 ............................................\n"
     ]
    },
    {
     "name": "stderr",
     "output_type": "stream",
     "text": [
      "[Parallel(n_jobs=1)]: Using backend SequentialBackend with 1 concurrent workers.\n",
      "[Parallel(n_jobs=1)]: Done   1 out of   1 | elapsed:    0.1s remaining:    0.0s\n"
     ]
    },
    {
     "name": "stdout",
     "output_type": "stream",
     "text": [
      "[CV] ............................. kmeans__n_clusters=2, total=   0.1s\n",
      "[CV] kmeans__n_clusters=2 ............................................\n",
      "[CV] ............................. kmeans__n_clusters=2, total=   0.1s\n",
      "[CV] kmeans__n_clusters=3 ............................................\n",
      "[CV] ............................. kmeans__n_clusters=3, total=   0.1s\n",
      "[CV] kmeans__n_clusters=3 ............................................\n",
      "[CV] ............................. kmeans__n_clusters=3, total=   0.1s\n",
      "[CV] kmeans__n_clusters=3 ............................................\n",
      "[CV] ............................. kmeans__n_clusters=3, total=   0.1s\n",
      "[CV] kmeans__n_clusters=4 ............................................\n",
      "[CV] ............................. kmeans__n_clusters=4, total=   0.2s\n",
      "[CV] kmeans__n_clusters=4 ............................................\n",
      "[CV] ............................. kmeans__n_clusters=4, total=   0.1s\n",
      "[CV] kmeans__n_clusters=4 ............................................\n",
      "[CV] ............................. kmeans__n_clusters=4, total=   0.1s\n",
      "[CV] kmeans__n_clusters=5 ............................................\n",
      "[CV] ............................. kmeans__n_clusters=5, total=   0.2s\n",
      "[CV] kmeans__n_clusters=5 ............................................\n",
      "[CV] ............................. kmeans__n_clusters=5, total=   0.2s\n",
      "[CV] kmeans__n_clusters=5 ............................................\n",
      "[CV] ............................. kmeans__n_clusters=5, total=   0.2s\n",
      "[CV] kmeans__n_clusters=6 ............................................\n",
      "[CV] ............................. kmeans__n_clusters=6, total=   0.2s\n",
      "[CV] kmeans__n_clusters=6 ............................................\n",
      "[CV] ............................. kmeans__n_clusters=6, total=   0.2s\n",
      "[CV] kmeans__n_clusters=6 ............................................\n",
      "[CV] ............................. kmeans__n_clusters=6, total=   0.2s\n",
      "[CV] kmeans__n_clusters=7 ............................................\n",
      "[CV] ............................. kmeans__n_clusters=7, total=   0.3s\n",
      "[CV] kmeans__n_clusters=7 ............................................\n",
      "[CV] ............................. kmeans__n_clusters=7, total=   0.2s\n",
      "[CV] kmeans__n_clusters=7 ............................................\n",
      "[CV] ............................. kmeans__n_clusters=7, total=   0.3s\n",
      "[CV] kmeans__n_clusters=8 ............................................\n",
      "[CV] ............................. kmeans__n_clusters=8, total=   0.3s\n",
      "[CV] kmeans__n_clusters=8 ............................................\n",
      "[CV] ............................. kmeans__n_clusters=8, total=   0.3s\n",
      "[CV] kmeans__n_clusters=8 ............................................\n",
      "[CV] ............................. kmeans__n_clusters=8, total=   0.3s\n",
      "[CV] kmeans__n_clusters=9 ............................................\n",
      "[CV] ............................. kmeans__n_clusters=9, total=   0.4s\n",
      "[CV] kmeans__n_clusters=9 ............................................\n",
      "[CV] ............................. kmeans__n_clusters=9, total=   0.4s\n",
      "[CV] kmeans__n_clusters=9 ............................................\n",
      "[CV] ............................. kmeans__n_clusters=9, total=   0.4s\n",
      "[CV] kmeans__n_clusters=10 ...........................................\n",
      "[CV] ............................ kmeans__n_clusters=10, total=   0.5s\n",
      "[CV] kmeans__n_clusters=10 ...........................................\n",
      "[CV] ............................ kmeans__n_clusters=10, total=   0.5s\n",
      "[CV] kmeans__n_clusters=10 ...........................................\n",
      "[CV] ............................ kmeans__n_clusters=10, total=   0.5s\n",
      "[CV] kmeans__n_clusters=11 ...........................................\n",
      "[CV] ............................ kmeans__n_clusters=11, total=   0.6s\n",
      "[CV] kmeans__n_clusters=11 ...........................................\n",
      "[CV] ............................ kmeans__n_clusters=11, total=   0.6s\n",
      "[CV] kmeans__n_clusters=11 ...........................................\n",
      "[CV] ............................ kmeans__n_clusters=11, total=   0.7s\n",
      "[CV] kmeans__n_clusters=12 ...........................................\n",
      "[CV] ............................ kmeans__n_clusters=12, total=   0.7s\n",
      "[CV] kmeans__n_clusters=12 ...........................................\n",
      "[CV] ............................ kmeans__n_clusters=12, total=   0.8s\n",
      "[CV] kmeans__n_clusters=12 ...........................................\n",
      "[CV] ............................ kmeans__n_clusters=12, total=   0.8s\n",
      "[CV] kmeans__n_clusters=13 ...........................................\n",
      "[CV] ............................ kmeans__n_clusters=13, total=   0.9s\n",
      "[CV] kmeans__n_clusters=13 ...........................................\n",
      "[CV] ............................ kmeans__n_clusters=13, total=   0.9s\n",
      "[CV] kmeans__n_clusters=13 ...........................................\n",
      "[CV] ............................ kmeans__n_clusters=13, total=   0.9s\n",
      "[CV] kmeans__n_clusters=14 ...........................................\n",
      "[CV] ............................ kmeans__n_clusters=14, total=   0.9s\n",
      "[CV] kmeans__n_clusters=14 ...........................................\n",
      "[CV] ............................ kmeans__n_clusters=14, total=   0.9s\n",
      "[CV] kmeans__n_clusters=14 ...........................................\n",
      "[CV] ............................ kmeans__n_clusters=14, total=   1.0s\n",
      "[CV] kmeans__n_clusters=15 ...........................................\n",
      "[CV] ............................ kmeans__n_clusters=15, total=   1.0s\n",
      "[CV] kmeans__n_clusters=15 ...........................................\n",
      "[CV] ............................ kmeans__n_clusters=15, total=   1.2s\n",
      "[CV] kmeans__n_clusters=15 ...........................................\n",
      "[CV] ............................ kmeans__n_clusters=15, total=   1.1s\n",
      "[CV] kmeans__n_clusters=16 ...........................................\n",
      "[CV] ............................ kmeans__n_clusters=16, total=   1.2s\n",
      "[CV] kmeans__n_clusters=16 ...........................................\n",
      "[CV] ............................ kmeans__n_clusters=16, total=   1.5s\n",
      "[CV] kmeans__n_clusters=16 ...........................................\n",
      "[CV] ............................ kmeans__n_clusters=16, total=   1.3s\n",
      "[CV] kmeans__n_clusters=17 ...........................................\n",
      "[CV] ............................ kmeans__n_clusters=17, total=   1.5s\n",
      "[CV] kmeans__n_clusters=17 ...........................................\n",
      "[CV] ............................ kmeans__n_clusters=17, total=   1.5s\n",
      "[CV] kmeans__n_clusters=17 ...........................................\n",
      "[CV] ............................ kmeans__n_clusters=17, total=   1.4s\n",
      "[CV] kmeans__n_clusters=18 ...........................................\n",
      "[CV] ............................ kmeans__n_clusters=18, total=   1.5s\n",
      "[CV] kmeans__n_clusters=18 ...........................................\n",
      "[CV] ............................ kmeans__n_clusters=18, total=   1.6s\n",
      "[CV] kmeans__n_clusters=18 ...........................................\n",
      "[CV] ............................ kmeans__n_clusters=18, total=   1.6s\n",
      "[CV] kmeans__n_clusters=19 ...........................................\n",
      "[CV] ............................ kmeans__n_clusters=19, total=   1.5s\n",
      "[CV] kmeans__n_clusters=19 ...........................................\n",
      "[CV] ............................ kmeans__n_clusters=19, total=   1.8s\n",
      "[CV] kmeans__n_clusters=19 ...........................................\n",
      "[CV] ............................ kmeans__n_clusters=19, total=   1.7s\n",
      "[CV] kmeans__n_clusters=20 ...........................................\n",
      "[CV] ............................ kmeans__n_clusters=20, total=   1.7s\n",
      "[CV] kmeans__n_clusters=20 ...........................................\n",
      "[CV] ............................ kmeans__n_clusters=20, total=   2.1s\n",
      "[CV] kmeans__n_clusters=20 ...........................................\n",
      "[CV] ............................ kmeans__n_clusters=20, total=   1.9s\n",
      "[CV] kmeans__n_clusters=21 ...........................................\n",
      "[CV] ............................ kmeans__n_clusters=21, total=   1.9s\n",
      "[CV] kmeans__n_clusters=21 ...........................................\n",
      "[CV] ............................ kmeans__n_clusters=21, total=   2.1s\n",
      "[CV] kmeans__n_clusters=21 ...........................................\n"
     ]
    },
    {
     "name": "stdout",
     "output_type": "stream",
     "text": [
      "[CV] ............................ kmeans__n_clusters=21, total=   2.0s\n",
      "[CV] kmeans__n_clusters=22 ...........................................\n",
      "[CV] ............................ kmeans__n_clusters=22, total=   2.0s\n",
      "[CV] kmeans__n_clusters=22 ...........................................\n",
      "[CV] ............................ kmeans__n_clusters=22, total=   2.1s\n",
      "[CV] kmeans__n_clusters=22 ...........................................\n",
      "[CV] ............................ kmeans__n_clusters=22, total=   2.2s\n",
      "[CV] kmeans__n_clusters=23 ...........................................\n",
      "[CV] ............................ kmeans__n_clusters=23, total=   2.1s\n",
      "[CV] kmeans__n_clusters=23 ...........................................\n",
      "[CV] ............................ kmeans__n_clusters=23, total=   2.4s\n",
      "[CV] kmeans__n_clusters=23 ...........................................\n",
      "[CV] ............................ kmeans__n_clusters=23, total=   2.4s\n",
      "[CV] kmeans__n_clusters=24 ...........................................\n",
      "[CV] ............................ kmeans__n_clusters=24, total=   2.4s\n",
      "[CV] kmeans__n_clusters=24 ...........................................\n",
      "[CV] ............................ kmeans__n_clusters=24, total=   2.3s\n",
      "[CV] kmeans__n_clusters=24 ...........................................\n",
      "[CV] ............................ kmeans__n_clusters=24, total=   2.6s\n",
      "[CV] kmeans__n_clusters=25 ...........................................\n",
      "[CV] ............................ kmeans__n_clusters=25, total=   2.0s\n",
      "[CV] kmeans__n_clusters=25 ...........................................\n",
      "[CV] ............................ kmeans__n_clusters=25, total=   2.4s\n",
      "[CV] kmeans__n_clusters=25 ...........................................\n",
      "[CV] ............................ kmeans__n_clusters=25, total=   2.6s\n",
      "[CV] kmeans__n_clusters=26 ...........................................\n",
      "[CV] ............................ kmeans__n_clusters=26, total=   2.5s\n",
      "[CV] kmeans__n_clusters=26 ...........................................\n",
      "[CV] ............................ kmeans__n_clusters=26, total=   2.4s\n",
      "[CV] kmeans__n_clusters=26 ...........................................\n",
      "[CV] ............................ kmeans__n_clusters=26, total=   2.7s\n",
      "[CV] kmeans__n_clusters=27 ...........................................\n",
      "[CV] ............................ kmeans__n_clusters=27, total=   2.5s\n",
      "[CV] kmeans__n_clusters=27 ...........................................\n",
      "[CV] ............................ kmeans__n_clusters=27, total=   2.4s\n",
      "[CV] kmeans__n_clusters=27 ...........................................\n",
      "[CV] ............................ kmeans__n_clusters=27, total=   2.3s\n",
      "[CV] kmeans__n_clusters=28 ...........................................\n",
      "[CV] ............................ kmeans__n_clusters=28, total=   2.3s\n",
      "[CV] kmeans__n_clusters=28 ...........................................\n",
      "[CV] ............................ kmeans__n_clusters=28, total=   2.5s\n",
      "[CV] kmeans__n_clusters=28 ...........................................\n",
      "[CV] ............................ kmeans__n_clusters=28, total=   2.5s\n",
      "[CV] kmeans__n_clusters=29 ...........................................\n",
      "[CV] ............................ kmeans__n_clusters=29, total=   2.3s\n",
      "[CV] kmeans__n_clusters=29 ...........................................\n",
      "[CV] ............................ kmeans__n_clusters=29, total=   2.5s\n",
      "[CV] kmeans__n_clusters=29 ...........................................\n",
      "[CV] ............................ kmeans__n_clusters=29, total=   2.5s\n",
      "[CV] kmeans__n_clusters=30 ...........................................\n",
      "[CV] ............................ kmeans__n_clusters=30, total=   2.5s\n",
      "[CV] kmeans__n_clusters=30 ...........................................\n",
      "[CV] ............................ kmeans__n_clusters=30, total=   2.3s\n",
      "[CV] kmeans__n_clusters=30 ...........................................\n",
      "[CV] ............................ kmeans__n_clusters=30, total=   2.6s\n",
      "[CV] kmeans__n_clusters=31 ...........................................\n",
      "[CV] ............................ kmeans__n_clusters=31, total=   2.5s\n",
      "[CV] kmeans__n_clusters=31 ...........................................\n",
      "[CV] ............................ kmeans__n_clusters=31, total=   2.8s\n",
      "[CV] kmeans__n_clusters=31 ...........................................\n",
      "[CV] ............................ kmeans__n_clusters=31, total=   2.6s\n",
      "[CV] kmeans__n_clusters=32 ...........................................\n",
      "[CV] ............................ kmeans__n_clusters=32, total=   2.9s\n",
      "[CV] kmeans__n_clusters=32 ...........................................\n",
      "[CV] ............................ kmeans__n_clusters=32, total=   2.7s\n",
      "[CV] kmeans__n_clusters=32 ...........................................\n",
      "[CV] ............................ kmeans__n_clusters=32, total=   2.5s\n",
      "[CV] kmeans__n_clusters=33 ...........................................\n",
      "[CV] ............................ kmeans__n_clusters=33, total=   2.9s\n",
      "[CV] kmeans__n_clusters=33 ...........................................\n",
      "[CV] ............................ kmeans__n_clusters=33, total=   2.7s\n",
      "[CV] kmeans__n_clusters=33 ...........................................\n",
      "[CV] ............................ kmeans__n_clusters=33, total=   2.7s\n",
      "[CV] kmeans__n_clusters=34 ...........................................\n",
      "[CV] ............................ kmeans__n_clusters=34, total=   2.9s\n",
      "[CV] kmeans__n_clusters=34 ...........................................\n",
      "[CV] ............................ kmeans__n_clusters=34, total=   3.0s\n",
      "[CV] kmeans__n_clusters=34 ...........................................\n",
      "[CV] ............................ kmeans__n_clusters=34, total=   3.0s\n",
      "[CV] kmeans__n_clusters=35 ...........................................\n",
      "[CV] ............................ kmeans__n_clusters=35, total=   2.9s\n",
      "[CV] kmeans__n_clusters=35 ...........................................\n",
      "[CV] ............................ kmeans__n_clusters=35, total=   2.5s\n",
      "[CV] kmeans__n_clusters=35 ...........................................\n",
      "[CV] ............................ kmeans__n_clusters=35, total=   2.7s\n",
      "[CV] kmeans__n_clusters=36 ...........................................\n",
      "[CV] ............................ kmeans__n_clusters=36, total=   2.9s\n",
      "[CV] kmeans__n_clusters=36 ...........................................\n",
      "[CV] ............................ kmeans__n_clusters=36, total=   2.7s\n",
      "[CV] kmeans__n_clusters=36 ...........................................\n",
      "[CV] ............................ kmeans__n_clusters=36, total=   2.6s\n",
      "[CV] kmeans__n_clusters=37 ...........................................\n",
      "[CV] ............................ kmeans__n_clusters=37, total=   3.1s\n",
      "[CV] kmeans__n_clusters=37 ...........................................\n",
      "[CV] ............................ kmeans__n_clusters=37, total=   2.7s\n",
      "[CV] kmeans__n_clusters=37 ...........................................\n",
      "[CV] ............................ kmeans__n_clusters=37, total=   3.1s\n",
      "[CV] kmeans__n_clusters=38 ...........................................\n",
      "[CV] ............................ kmeans__n_clusters=38, total=   3.1s\n",
      "[CV] kmeans__n_clusters=38 ...........................................\n",
      "[CV] ............................ kmeans__n_clusters=38, total=   2.7s\n",
      "[CV] kmeans__n_clusters=38 ...........................................\n",
      "[CV] ............................ kmeans__n_clusters=38, total=   2.9s\n",
      "[CV] kmeans__n_clusters=39 ...........................................\n",
      "[CV] ............................ kmeans__n_clusters=39, total=   2.6s\n",
      "[CV] kmeans__n_clusters=39 ...........................................\n",
      "[CV] ............................ kmeans__n_clusters=39, total=   2.8s\n",
      "[CV] kmeans__n_clusters=39 ...........................................\n",
      "[CV] ............................ kmeans__n_clusters=39, total=   2.7s\n",
      "[CV] kmeans__n_clusters=40 ...........................................\n",
      "[CV] ............................ kmeans__n_clusters=40, total=   3.1s\n",
      "[CV] kmeans__n_clusters=40 ...........................................\n",
      "[CV] ............................ kmeans__n_clusters=40, total=   2.7s\n",
      "[CV] kmeans__n_clusters=40 ...........................................\n",
      "[CV] ............................ kmeans__n_clusters=40, total=   2.8s\n",
      "[CV] kmeans__n_clusters=41 ...........................................\n"
     ]
    },
    {
     "name": "stdout",
     "output_type": "stream",
     "text": [
      "[CV] ............................ kmeans__n_clusters=41, total=   3.0s\n",
      "[CV] kmeans__n_clusters=41 ...........................................\n",
      "[CV] ............................ kmeans__n_clusters=41, total=   2.9s\n",
      "[CV] kmeans__n_clusters=41 ...........................................\n",
      "[CV] ............................ kmeans__n_clusters=41, total=   2.7s\n",
      "[CV] kmeans__n_clusters=42 ...........................................\n",
      "[CV] ............................ kmeans__n_clusters=42, total=   3.0s\n",
      "[CV] kmeans__n_clusters=42 ...........................................\n",
      "[CV] ............................ kmeans__n_clusters=42, total=   2.8s\n",
      "[CV] kmeans__n_clusters=42 ...........................................\n",
      "[CV] ............................ kmeans__n_clusters=42, total=   2.7s\n",
      "[CV] kmeans__n_clusters=43 ...........................................\n",
      "[CV] ............................ kmeans__n_clusters=43, total=   2.9s\n",
      "[CV] kmeans__n_clusters=43 ...........................................\n",
      "[CV] ............................ kmeans__n_clusters=43, total=   2.4s\n",
      "[CV] kmeans__n_clusters=43 ...........................................\n",
      "[CV] ............................ kmeans__n_clusters=43, total=   2.9s\n",
      "[CV] kmeans__n_clusters=44 ...........................................\n",
      "[CV] ............................ kmeans__n_clusters=44, total=   3.0s\n",
      "[CV] kmeans__n_clusters=44 ...........................................\n",
      "[CV] ............................ kmeans__n_clusters=44, total=   2.4s\n",
      "[CV] kmeans__n_clusters=44 ...........................................\n",
      "[CV] ............................ kmeans__n_clusters=44, total=   2.6s\n",
      "[CV] kmeans__n_clusters=45 ...........................................\n",
      "[CV] ............................ kmeans__n_clusters=45, total=   2.8s\n",
      "[CV] kmeans__n_clusters=45 ...........................................\n",
      "[CV] ............................ kmeans__n_clusters=45, total=   2.9s\n",
      "[CV] kmeans__n_clusters=45 ...........................................\n",
      "[CV] ............................ kmeans__n_clusters=45, total=   2.9s\n",
      "[CV] kmeans__n_clusters=46 ...........................................\n",
      "[CV] ............................ kmeans__n_clusters=46, total=   3.2s\n",
      "[CV] kmeans__n_clusters=46 ...........................................\n",
      "[CV] ............................ kmeans__n_clusters=46, total=   3.0s\n",
      "[CV] kmeans__n_clusters=46 ...........................................\n",
      "[CV] ............................ kmeans__n_clusters=46, total=   2.6s\n",
      "[CV] kmeans__n_clusters=47 ...........................................\n",
      "[CV] ............................ kmeans__n_clusters=47, total=   2.8s\n",
      "[CV] kmeans__n_clusters=47 ...........................................\n",
      "[CV] ............................ kmeans__n_clusters=47, total=   2.6s\n",
      "[CV] kmeans__n_clusters=47 ...........................................\n",
      "[CV] ............................ kmeans__n_clusters=47, total=   2.7s\n",
      "[CV] kmeans__n_clusters=48 ...........................................\n",
      "[CV] ............................ kmeans__n_clusters=48, total=   2.9s\n",
      "[CV] kmeans__n_clusters=48 ...........................................\n",
      "[CV] ............................ kmeans__n_clusters=48, total=   2.8s\n",
      "[CV] kmeans__n_clusters=48 ...........................................\n",
      "[CV] ............................ kmeans__n_clusters=48, total=   2.7s\n",
      "[CV] kmeans__n_clusters=49 ...........................................\n",
      "[CV] ............................ kmeans__n_clusters=49, total=   2.9s\n",
      "[CV] kmeans__n_clusters=49 ...........................................\n",
      "[CV] ............................ kmeans__n_clusters=49, total=   3.0s\n",
      "[CV] kmeans__n_clusters=49 ...........................................\n",
      "[CV] ............................ kmeans__n_clusters=49, total=   2.6s\n",
      "[CV] kmeans__n_clusters=50 ...........................................\n",
      "[CV] ............................ kmeans__n_clusters=50, total=   2.9s\n",
      "[CV] kmeans__n_clusters=50 ...........................................\n",
      "[CV] ............................ kmeans__n_clusters=50, total=   2.7s\n",
      "[CV] kmeans__n_clusters=50 ...........................................\n",
      "[CV] ............................ kmeans__n_clusters=50, total=   2.8s\n",
      "[CV] kmeans__n_clusters=51 ...........................................\n",
      "[CV] ............................ kmeans__n_clusters=51, total=   2.9s\n",
      "[CV] kmeans__n_clusters=51 ...........................................\n",
      "[CV] ............................ kmeans__n_clusters=51, total=   2.8s\n",
      "[CV] kmeans__n_clusters=51 ...........................................\n",
      "[CV] ............................ kmeans__n_clusters=51, total=   2.8s\n",
      "[CV] kmeans__n_clusters=52 ...........................................\n",
      "[CV] ............................ kmeans__n_clusters=52, total=   2.9s\n",
      "[CV] kmeans__n_clusters=52 ...........................................\n",
      "[CV] ............................ kmeans__n_clusters=52, total=   3.1s\n",
      "[CV] kmeans__n_clusters=52 ...........................................\n",
      "[CV] ............................ kmeans__n_clusters=52, total=   2.8s\n",
      "[CV] kmeans__n_clusters=53 ...........................................\n",
      "[CV] ............................ kmeans__n_clusters=53, total=   2.9s\n",
      "[CV] kmeans__n_clusters=53 ...........................................\n",
      "[CV] ............................ kmeans__n_clusters=53, total=   2.9s\n",
      "[CV] kmeans__n_clusters=53 ...........................................\n",
      "[CV] ............................ kmeans__n_clusters=53, total=   2.9s\n",
      "[CV] kmeans__n_clusters=54 ...........................................\n",
      "[CV] ............................ kmeans__n_clusters=54, total=   3.0s\n",
      "[CV] kmeans__n_clusters=54 ...........................................\n",
      "[CV] ............................ kmeans__n_clusters=54, total=   2.6s\n",
      "[CV] kmeans__n_clusters=54 ...........................................\n",
      "[CV] ............................ kmeans__n_clusters=54, total=   2.9s\n",
      "[CV] kmeans__n_clusters=55 ...........................................\n",
      "[CV] ............................ kmeans__n_clusters=55, total=   3.2s\n",
      "[CV] kmeans__n_clusters=55 ...........................................\n",
      "[CV] ............................ kmeans__n_clusters=55, total=   3.0s\n",
      "[CV] kmeans__n_clusters=55 ...........................................\n",
      "[CV] ............................ kmeans__n_clusters=55, total=   3.0s\n",
      "[CV] kmeans__n_clusters=56 ...........................................\n",
      "[CV] ............................ kmeans__n_clusters=56, total=   3.1s\n",
      "[CV] kmeans__n_clusters=56 ...........................................\n",
      "[CV] ............................ kmeans__n_clusters=56, total=   3.2s\n",
      "[CV] kmeans__n_clusters=56 ...........................................\n",
      "[CV] ............................ kmeans__n_clusters=56, total=   3.0s\n",
      "[CV] kmeans__n_clusters=57 ...........................................\n",
      "[CV] ............................ kmeans__n_clusters=57, total=   3.0s\n",
      "[CV] kmeans__n_clusters=57 ...........................................\n",
      "[CV] ............................ kmeans__n_clusters=57, total=   2.8s\n",
      "[CV] kmeans__n_clusters=57 ...........................................\n",
      "[CV] ............................ kmeans__n_clusters=57, total=   2.6s\n",
      "[CV] kmeans__n_clusters=58 ...........................................\n",
      "[CV] ............................ kmeans__n_clusters=58, total=   3.0s\n",
      "[CV] kmeans__n_clusters=58 ...........................................\n",
      "[CV] ............................ kmeans__n_clusters=58, total=   2.7s\n",
      "[CV] kmeans__n_clusters=58 ...........................................\n",
      "[CV] ............................ kmeans__n_clusters=58, total=   3.0s\n",
      "[CV] kmeans__n_clusters=59 ...........................................\n",
      "[CV] ............................ kmeans__n_clusters=59, total=   2.9s\n",
      "[CV] kmeans__n_clusters=59 ...........................................\n",
      "[CV] ............................ kmeans__n_clusters=59, total=   2.9s\n",
      "[CV] kmeans__n_clusters=59 ...........................................\n",
      "[CV] ............................ kmeans__n_clusters=59, total=   2.7s\n",
      "[CV] kmeans__n_clusters=60 ...........................................\n",
      "[CV] ............................ kmeans__n_clusters=60, total=   3.0s\n",
      "[CV] kmeans__n_clusters=60 ...........................................\n"
     ]
    },
    {
     "name": "stdout",
     "output_type": "stream",
     "text": [
      "[CV] ............................ kmeans__n_clusters=60, total=   2.8s\n",
      "[CV] kmeans__n_clusters=60 ...........................................\n",
      "[CV] ............................ kmeans__n_clusters=60, total=   2.7s\n",
      "[CV] kmeans__n_clusters=61 ...........................................\n",
      "[CV] ............................ kmeans__n_clusters=61, total=   2.7s\n",
      "[CV] kmeans__n_clusters=61 ...........................................\n",
      "[CV] ............................ kmeans__n_clusters=61, total=   3.0s\n",
      "[CV] kmeans__n_clusters=61 ...........................................\n",
      "[CV] ............................ kmeans__n_clusters=61, total=   2.9s\n",
      "[CV] kmeans__n_clusters=62 ...........................................\n",
      "[CV] ............................ kmeans__n_clusters=62, total=   2.8s\n",
      "[CV] kmeans__n_clusters=62 ...........................................\n",
      "[CV] ............................ kmeans__n_clusters=62, total=   3.1s\n",
      "[CV] kmeans__n_clusters=62 ...........................................\n",
      "[CV] ............................ kmeans__n_clusters=62, total=   3.0s\n",
      "[CV] kmeans__n_clusters=63 ...........................................\n",
      "[CV] ............................ kmeans__n_clusters=63, total=   2.8s\n",
      "[CV] kmeans__n_clusters=63 ...........................................\n",
      "[CV] ............................ kmeans__n_clusters=63, total=   3.1s\n",
      "[CV] kmeans__n_clusters=63 ...........................................\n",
      "[CV] ............................ kmeans__n_clusters=63, total=   2.7s\n",
      "[CV] kmeans__n_clusters=64 ...........................................\n",
      "[CV] ............................ kmeans__n_clusters=64, total=   3.2s\n",
      "[CV] kmeans__n_clusters=64 ...........................................\n",
      "[CV] ............................ kmeans__n_clusters=64, total=   3.7s\n",
      "[CV] kmeans__n_clusters=64 ...........................................\n",
      "[CV] ............................ kmeans__n_clusters=64, total=   2.6s\n",
      "[CV] kmeans__n_clusters=65 ...........................................\n",
      "[CV] ............................ kmeans__n_clusters=65, total=   3.0s\n",
      "[CV] kmeans__n_clusters=65 ...........................................\n",
      "[CV] ............................ kmeans__n_clusters=65, total=   3.0s\n",
      "[CV] kmeans__n_clusters=65 ...........................................\n",
      "[CV] ............................ kmeans__n_clusters=65, total=   2.7s\n",
      "[CV] kmeans__n_clusters=66 ...........................................\n",
      "[CV] ............................ kmeans__n_clusters=66, total=   3.4s\n",
      "[CV] kmeans__n_clusters=66 ...........................................\n",
      "[CV] ............................ kmeans__n_clusters=66, total=   3.4s\n",
      "[CV] kmeans__n_clusters=66 ...........................................\n",
      "[CV] ............................ kmeans__n_clusters=66, total=   2.9s\n",
      "[CV] kmeans__n_clusters=67 ...........................................\n",
      "[CV] ............................ kmeans__n_clusters=67, total=   3.2s\n",
      "[CV] kmeans__n_clusters=67 ...........................................\n",
      "[CV] ............................ kmeans__n_clusters=67, total=   3.0s\n",
      "[CV] kmeans__n_clusters=67 ...........................................\n",
      "[CV] ............................ kmeans__n_clusters=67, total=   3.1s\n",
      "[CV] kmeans__n_clusters=68 ...........................................\n",
      "[CV] ............................ kmeans__n_clusters=68, total=   3.1s\n",
      "[CV] kmeans__n_clusters=68 ...........................................\n",
      "[CV] ............................ kmeans__n_clusters=68, total=   3.1s\n",
      "[CV] kmeans__n_clusters=68 ...........................................\n",
      "[CV] ............................ kmeans__n_clusters=68, total=   3.3s\n",
      "[CV] kmeans__n_clusters=69 ...........................................\n",
      "[CV] ............................ kmeans__n_clusters=69, total=   2.8s\n",
      "[CV] kmeans__n_clusters=69 ...........................................\n",
      "[CV] ............................ kmeans__n_clusters=69, total=   3.1s\n",
      "[CV] kmeans__n_clusters=69 ...........................................\n",
      "[CV] ............................ kmeans__n_clusters=69, total=   2.9s\n",
      "[CV] kmeans__n_clusters=70 ...........................................\n",
      "[CV] ............................ kmeans__n_clusters=70, total=   3.1s\n",
      "[CV] kmeans__n_clusters=70 ...........................................\n",
      "[CV] ............................ kmeans__n_clusters=70, total=   3.3s\n",
      "[CV] kmeans__n_clusters=70 ...........................................\n",
      "[CV] ............................ kmeans__n_clusters=70, total=   3.1s\n",
      "[CV] kmeans__n_clusters=71 ...........................................\n",
      "[CV] ............................ kmeans__n_clusters=71, total=   2.9s\n",
      "[CV] kmeans__n_clusters=71 ...........................................\n",
      "[CV] ............................ kmeans__n_clusters=71, total=   3.4s\n",
      "[CV] kmeans__n_clusters=71 ...........................................\n",
      "[CV] ............................ kmeans__n_clusters=71, total=   2.9s\n",
      "[CV] kmeans__n_clusters=72 ...........................................\n",
      "[CV] ............................ kmeans__n_clusters=72, total=   3.0s\n",
      "[CV] kmeans__n_clusters=72 ...........................................\n",
      "[CV] ............................ kmeans__n_clusters=72, total=   3.3s\n",
      "[CV] kmeans__n_clusters=72 ...........................................\n",
      "[CV] ............................ kmeans__n_clusters=72, total=   3.0s\n",
      "[CV] kmeans__n_clusters=73 ...........................................\n",
      "[CV] ............................ kmeans__n_clusters=73, total=   3.3s\n",
      "[CV] kmeans__n_clusters=73 ...........................................\n",
      "[CV] ............................ kmeans__n_clusters=73, total=   3.2s\n",
      "[CV] kmeans__n_clusters=73 ...........................................\n",
      "[CV] ............................ kmeans__n_clusters=73, total=   3.3s\n",
      "[CV] kmeans__n_clusters=74 ...........................................\n",
      "[CV] ............................ kmeans__n_clusters=74, total=   2.9s\n",
      "[CV] kmeans__n_clusters=74 ...........................................\n",
      "[CV] ............................ kmeans__n_clusters=74, total=   3.0s\n",
      "[CV] kmeans__n_clusters=74 ...........................................\n",
      "[CV] ............................ kmeans__n_clusters=74, total=   2.9s\n",
      "[CV] kmeans__n_clusters=75 ...........................................\n",
      "[CV] ............................ kmeans__n_clusters=75, total=   3.1s\n",
      "[CV] kmeans__n_clusters=75 ...........................................\n",
      "[CV] ............................ kmeans__n_clusters=75, total=   3.3s\n",
      "[CV] kmeans__n_clusters=75 ...........................................\n",
      "[CV] ............................ kmeans__n_clusters=75, total=   3.2s\n",
      "[CV] kmeans__n_clusters=76 ...........................................\n",
      "[CV] ............................ kmeans__n_clusters=76, total=   3.2s\n",
      "[CV] kmeans__n_clusters=76 ...........................................\n",
      "[CV] ............................ kmeans__n_clusters=76, total=   3.5s\n",
      "[CV] kmeans__n_clusters=76 ...........................................\n",
      "[CV] ............................ kmeans__n_clusters=76, total=   3.0s\n",
      "[CV] kmeans__n_clusters=77 ...........................................\n",
      "[CV] ............................ kmeans__n_clusters=77, total=   3.3s\n",
      "[CV] kmeans__n_clusters=77 ...........................................\n",
      "[CV] ............................ kmeans__n_clusters=77, total=   3.2s\n",
      "[CV] kmeans__n_clusters=77 ...........................................\n",
      "[CV] ............................ kmeans__n_clusters=77, total=   3.1s\n",
      "[CV] kmeans__n_clusters=78 ...........................................\n",
      "[CV] ............................ kmeans__n_clusters=78, total=   3.3s\n",
      "[CV] kmeans__n_clusters=78 ...........................................\n",
      "[CV] ............................ kmeans__n_clusters=78, total=   3.3s\n",
      "[CV] kmeans__n_clusters=78 ...........................................\n",
      "[CV] ............................ kmeans__n_clusters=78, total=   3.3s\n",
      "[CV] kmeans__n_clusters=79 ...........................................\n",
      "[CV] ............................ kmeans__n_clusters=79, total=   3.2s\n",
      "[CV] kmeans__n_clusters=79 ...........................................\n",
      "[CV] ............................ kmeans__n_clusters=79, total=   3.2s\n",
      "[CV] kmeans__n_clusters=79 ...........................................\n"
     ]
    },
    {
     "name": "stdout",
     "output_type": "stream",
     "text": [
      "[CV] ............................ kmeans__n_clusters=79, total=   3.1s\n",
      "[CV] kmeans__n_clusters=80 ...........................................\n",
      "[CV] ............................ kmeans__n_clusters=80, total=   3.2s\n",
      "[CV] kmeans__n_clusters=80 ...........................................\n",
      "[CV] ............................ kmeans__n_clusters=80, total=   3.5s\n",
      "[CV] kmeans__n_clusters=80 ...........................................\n",
      "[CV] ............................ kmeans__n_clusters=80, total=   3.2s\n",
      "[CV] kmeans__n_clusters=81 ...........................................\n",
      "[CV] ............................ kmeans__n_clusters=81, total=   3.2s\n",
      "[CV] kmeans__n_clusters=81 ...........................................\n",
      "[CV] ............................ kmeans__n_clusters=81, total=   3.5s\n",
      "[CV] kmeans__n_clusters=81 ...........................................\n",
      "[CV] ............................ kmeans__n_clusters=81, total=   3.4s\n",
      "[CV] kmeans__n_clusters=82 ...........................................\n",
      "[CV] ............................ kmeans__n_clusters=82, total=   3.1s\n",
      "[CV] kmeans__n_clusters=82 ...........................................\n",
      "[CV] ............................ kmeans__n_clusters=82, total=   3.0s\n",
      "[CV] kmeans__n_clusters=82 ...........................................\n",
      "[CV] ............................ kmeans__n_clusters=82, total=   3.3s\n",
      "[CV] kmeans__n_clusters=83 ...........................................\n",
      "[CV] ............................ kmeans__n_clusters=83, total=   3.2s\n",
      "[CV] kmeans__n_clusters=83 ...........................................\n",
      "[CV] ............................ kmeans__n_clusters=83, total=   3.1s\n",
      "[CV] kmeans__n_clusters=83 ...........................................\n",
      "[CV] ............................ kmeans__n_clusters=83, total=   3.1s\n",
      "[CV] kmeans__n_clusters=84 ...........................................\n",
      "[CV] ............................ kmeans__n_clusters=84, total=   2.9s\n",
      "[CV] kmeans__n_clusters=84 ...........................................\n",
      "[CV] ............................ kmeans__n_clusters=84, total=   3.4s\n",
      "[CV] kmeans__n_clusters=84 ...........................................\n",
      "[CV] ............................ kmeans__n_clusters=84, total=   3.2s\n",
      "[CV] kmeans__n_clusters=85 ...........................................\n",
      "[CV] ............................ kmeans__n_clusters=85, total=   3.2s\n",
      "[CV] kmeans__n_clusters=85 ...........................................\n",
      "[CV] ............................ kmeans__n_clusters=85, total=   3.2s\n",
      "[CV] kmeans__n_clusters=85 ...........................................\n",
      "[CV] ............................ kmeans__n_clusters=85, total=   3.2s\n",
      "[CV] kmeans__n_clusters=86 ...........................................\n",
      "[CV] ............................ kmeans__n_clusters=86, total=   3.4s\n",
      "[CV] kmeans__n_clusters=86 ...........................................\n",
      "[CV] ............................ kmeans__n_clusters=86, total=   3.0s\n",
      "[CV] kmeans__n_clusters=86 ...........................................\n",
      "[CV] ............................ kmeans__n_clusters=86, total=   3.3s\n",
      "[CV] kmeans__n_clusters=87 ...........................................\n",
      "[CV] ............................ kmeans__n_clusters=87, total=   3.3s\n",
      "[CV] kmeans__n_clusters=87 ...........................................\n",
      "[CV] ............................ kmeans__n_clusters=87, total=   3.3s\n",
      "[CV] kmeans__n_clusters=87 ...........................................\n",
      "[CV] ............................ kmeans__n_clusters=87, total=   3.2s\n",
      "[CV] kmeans__n_clusters=88 ...........................................\n",
      "[CV] ............................ kmeans__n_clusters=88, total=   2.9s\n",
      "[CV] kmeans__n_clusters=88 ...........................................\n",
      "[CV] ............................ kmeans__n_clusters=88, total=   3.3s\n",
      "[CV] kmeans__n_clusters=88 ...........................................\n",
      "[CV] ............................ kmeans__n_clusters=88, total=   2.8s\n",
      "[CV] kmeans__n_clusters=89 ...........................................\n",
      "[CV] ............................ kmeans__n_clusters=89, total=   3.0s\n",
      "[CV] kmeans__n_clusters=89 ...........................................\n",
      "[CV] ............................ kmeans__n_clusters=89, total=   3.1s\n",
      "[CV] kmeans__n_clusters=89 ...........................................\n",
      "[CV] ............................ kmeans__n_clusters=89, total=   3.4s\n",
      "[CV] kmeans__n_clusters=90 ...........................................\n",
      "[CV] ............................ kmeans__n_clusters=90, total=   3.7s\n",
      "[CV] kmeans__n_clusters=90 ...........................................\n",
      "[CV] ............................ kmeans__n_clusters=90, total=   3.0s\n",
      "[CV] kmeans__n_clusters=90 ...........................................\n",
      "[CV] ............................ kmeans__n_clusters=90, total=   3.1s\n",
      "[CV] kmeans__n_clusters=91 ...........................................\n",
      "[CV] ............................ kmeans__n_clusters=91, total=   3.0s\n",
      "[CV] kmeans__n_clusters=91 ...........................................\n",
      "[CV] ............................ kmeans__n_clusters=91, total=   3.6s\n",
      "[CV] kmeans__n_clusters=91 ...........................................\n",
      "[CV] ............................ kmeans__n_clusters=91, total=   3.5s\n",
      "[CV] kmeans__n_clusters=92 ...........................................\n",
      "[CV] ............................ kmeans__n_clusters=92, total=   3.2s\n",
      "[CV] kmeans__n_clusters=92 ...........................................\n",
      "[CV] ............................ kmeans__n_clusters=92, total=   3.2s\n",
      "[CV] kmeans__n_clusters=92 ...........................................\n",
      "[CV] ............................ kmeans__n_clusters=92, total=   3.4s\n",
      "[CV] kmeans__n_clusters=93 ...........................................\n",
      "[CV] ............................ kmeans__n_clusters=93, total=   3.5s\n",
      "[CV] kmeans__n_clusters=93 ...........................................\n",
      "[CV] ............................ kmeans__n_clusters=93, total=   3.2s\n",
      "[CV] kmeans__n_clusters=93 ...........................................\n",
      "[CV] ............................ kmeans__n_clusters=93, total=   3.8s\n",
      "[CV] kmeans__n_clusters=94 ...........................................\n",
      "[CV] ............................ kmeans__n_clusters=94, total=   3.2s\n",
      "[CV] kmeans__n_clusters=94 ...........................................\n",
      "[CV] ............................ kmeans__n_clusters=94, total=   3.7s\n",
      "[CV] kmeans__n_clusters=94 ...........................................\n",
      "[CV] ............................ kmeans__n_clusters=94, total=   4.0s\n",
      "[CV] kmeans__n_clusters=95 ...........................................\n",
      "[CV] ............................ kmeans__n_clusters=95, total=   3.1s\n",
      "[CV] kmeans__n_clusters=95 ...........................................\n",
      "[CV] ............................ kmeans__n_clusters=95, total=   3.0s\n",
      "[CV] kmeans__n_clusters=95 ...........................................\n",
      "[CV] ............................ kmeans__n_clusters=95, total=   3.4s\n",
      "[CV] kmeans__n_clusters=96 ...........................................\n",
      "[CV] ............................ kmeans__n_clusters=96, total=   3.1s\n",
      "[CV] kmeans__n_clusters=96 ...........................................\n",
      "[CV] ............................ kmeans__n_clusters=96, total=   3.1s\n",
      "[CV] kmeans__n_clusters=96 ...........................................\n",
      "[CV] ............................ kmeans__n_clusters=96, total=   3.6s\n",
      "[CV] kmeans__n_clusters=97 ...........................................\n",
      "[CV] ............................ kmeans__n_clusters=97, total=   3.2s\n",
      "[CV] kmeans__n_clusters=97 ...........................................\n",
      "[CV] ............................ kmeans__n_clusters=97, total=   3.0s\n",
      "[CV] kmeans__n_clusters=97 ...........................................\n",
      "[CV] ............................ kmeans__n_clusters=97, total=   3.9s\n",
      "[CV] kmeans__n_clusters=98 ...........................................\n",
      "[CV] ............................ kmeans__n_clusters=98, total=   3.7s\n",
      "[CV] kmeans__n_clusters=98 ...........................................\n",
      "[CV] ............................ kmeans__n_clusters=98, total=   3.5s\n",
      "[CV] kmeans__n_clusters=98 ...........................................\n",
      "[CV] ............................ kmeans__n_clusters=98, total=   3.5s\n",
      "[CV] kmeans__n_clusters=99 ...........................................\n"
     ]
    },
    {
     "name": "stdout",
     "output_type": "stream",
     "text": [
      "[CV] ............................ kmeans__n_clusters=99, total=   3.7s\n",
      "[CV] kmeans__n_clusters=99 ...........................................\n",
      "[CV] ............................ kmeans__n_clusters=99, total=   3.3s\n",
      "[CV] kmeans__n_clusters=99 ...........................................\n",
      "[CV] ............................ kmeans__n_clusters=99, total=   3.9s\n",
      "[CV] kmeans__n_clusters=100 ..........................................\n",
      "[CV] ........................... kmeans__n_clusters=100, total=   3.7s\n",
      "[CV] kmeans__n_clusters=100 ..........................................\n",
      "[CV] ........................... kmeans__n_clusters=100, total=   3.1s\n",
      "[CV] kmeans__n_clusters=100 ..........................................\n",
      "[CV] ........................... kmeans__n_clusters=100, total=   3.1s\n",
      "[CV] kmeans__n_clusters=101 ..........................................\n",
      "[CV] ........................... kmeans__n_clusters=101, total=   3.4s\n",
      "[CV] kmeans__n_clusters=101 ..........................................\n",
      "[CV] ........................... kmeans__n_clusters=101, total=   3.3s\n",
      "[CV] kmeans__n_clusters=101 ..........................................\n",
      "[CV] ........................... kmeans__n_clusters=101, total=   3.6s\n",
      "[CV] kmeans__n_clusters=102 ..........................................\n",
      "[CV] ........................... kmeans__n_clusters=102, total=   3.9s\n",
      "[CV] kmeans__n_clusters=102 ..........................................\n",
      "[CV] ........................... kmeans__n_clusters=102, total=   3.3s\n",
      "[CV] kmeans__n_clusters=102 ..........................................\n",
      "[CV] ........................... kmeans__n_clusters=102, total=   3.5s\n",
      "[CV] kmeans__n_clusters=103 ..........................................\n",
      "[CV] ........................... kmeans__n_clusters=103, total=   3.4s\n",
      "[CV] kmeans__n_clusters=103 ..........................................\n",
      "[CV] ........................... kmeans__n_clusters=103, total=   3.2s\n",
      "[CV] kmeans__n_clusters=103 ..........................................\n",
      "[CV] ........................... kmeans__n_clusters=103, total=   3.2s\n",
      "[CV] kmeans__n_clusters=104 ..........................................\n",
      "[CV] ........................... kmeans__n_clusters=104, total=   3.6s\n",
      "[CV] kmeans__n_clusters=104 ..........................................\n",
      "[CV] ........................... kmeans__n_clusters=104, total=   3.4s\n",
      "[CV] kmeans__n_clusters=104 ..........................................\n",
      "[CV] ........................... kmeans__n_clusters=104, total=   3.5s\n",
      "[CV] kmeans__n_clusters=105 ..........................................\n",
      "[CV] ........................... kmeans__n_clusters=105, total=   3.3s\n",
      "[CV] kmeans__n_clusters=105 ..........................................\n",
      "[CV] ........................... kmeans__n_clusters=105, total=   3.3s\n",
      "[CV] kmeans__n_clusters=105 ..........................................\n",
      "[CV] ........................... kmeans__n_clusters=105, total=   3.9s\n",
      "[CV] kmeans__n_clusters=106 ..........................................\n",
      "[CV] ........................... kmeans__n_clusters=106, total=   3.3s\n",
      "[CV] kmeans__n_clusters=106 ..........................................\n",
      "[CV] ........................... kmeans__n_clusters=106, total=   3.2s\n",
      "[CV] kmeans__n_clusters=106 ..........................................\n",
      "[CV] ........................... kmeans__n_clusters=106, total=   3.2s\n",
      "[CV] kmeans__n_clusters=107 ..........................................\n",
      "[CV] ........................... kmeans__n_clusters=107, total=   3.3s\n",
      "[CV] kmeans__n_clusters=107 ..........................................\n",
      "[CV] ........................... kmeans__n_clusters=107, total=   3.2s\n",
      "[CV] kmeans__n_clusters=107 ..........................................\n",
      "[CV] ........................... kmeans__n_clusters=107, total=   3.6s\n",
      "[CV] kmeans__n_clusters=108 ..........................................\n",
      "[CV] ........................... kmeans__n_clusters=108, total=   3.3s\n",
      "[CV] kmeans__n_clusters=108 ..........................................\n",
      "[CV] ........................... kmeans__n_clusters=108, total=   3.3s\n",
      "[CV] kmeans__n_clusters=108 ..........................................\n",
      "[CV] ........................... kmeans__n_clusters=108, total=   3.4s\n",
      "[CV] kmeans__n_clusters=109 ..........................................\n",
      "[CV] ........................... kmeans__n_clusters=109, total=   4.0s\n",
      "[CV] kmeans__n_clusters=109 ..........................................\n",
      "[CV] ........................... kmeans__n_clusters=109, total=   3.3s\n",
      "[CV] kmeans__n_clusters=109 ..........................................\n",
      "[CV] ........................... kmeans__n_clusters=109, total=   3.3s\n",
      "[CV] kmeans__n_clusters=110 ..........................................\n",
      "[CV] ........................... kmeans__n_clusters=110, total=   3.3s\n",
      "[CV] kmeans__n_clusters=110 ..........................................\n",
      "[CV] ........................... kmeans__n_clusters=110, total=   3.1s\n",
      "[CV] kmeans__n_clusters=110 ..........................................\n",
      "[CV] ........................... kmeans__n_clusters=110, total=   3.5s\n",
      "[CV] kmeans__n_clusters=111 ..........................................\n",
      "[CV] ........................... kmeans__n_clusters=111, total=   3.7s\n",
      "[CV] kmeans__n_clusters=111 ..........................................\n",
      "[CV] ........................... kmeans__n_clusters=111, total=   3.1s\n",
      "[CV] kmeans__n_clusters=111 ..........................................\n",
      "[CV] ........................... kmeans__n_clusters=111, total=   3.4s\n",
      "[CV] kmeans__n_clusters=112 ..........................................\n",
      "[CV] ........................... kmeans__n_clusters=112, total=   3.3s\n",
      "[CV] kmeans__n_clusters=112 ..........................................\n",
      "[CV] ........................... kmeans__n_clusters=112, total=   3.1s\n",
      "[CV] kmeans__n_clusters=112 ..........................................\n",
      "[CV] ........................... kmeans__n_clusters=112, total=   3.5s\n",
      "[CV] kmeans__n_clusters=113 ..........................................\n",
      "[CV] ........................... kmeans__n_clusters=113, total=   3.3s\n",
      "[CV] kmeans__n_clusters=113 ..........................................\n",
      "[CV] ........................... kmeans__n_clusters=113, total=   3.4s\n",
      "[CV] kmeans__n_clusters=113 ..........................................\n",
      "[CV] ........................... kmeans__n_clusters=113, total=   3.7s\n",
      "[CV] kmeans__n_clusters=114 ..........................................\n",
      "[CV] ........................... kmeans__n_clusters=114, total=   3.8s\n",
      "[CV] kmeans__n_clusters=114 ..........................................\n",
      "[CV] ........................... kmeans__n_clusters=114, total=   3.2s\n",
      "[CV] kmeans__n_clusters=114 ..........................................\n",
      "[CV] ........................... kmeans__n_clusters=114, total=   3.2s\n",
      "[CV] kmeans__n_clusters=115 ..........................................\n",
      "[CV] ........................... kmeans__n_clusters=115, total=   3.6s\n",
      "[CV] kmeans__n_clusters=115 ..........................................\n",
      "[CV] ........................... kmeans__n_clusters=115, total=   3.1s\n",
      "[CV] kmeans__n_clusters=115 ..........................................\n",
      "[CV] ........................... kmeans__n_clusters=115, total=   3.5s\n",
      "[CV] kmeans__n_clusters=116 ..........................................\n",
      "[CV] ........................... kmeans__n_clusters=116, total=   3.4s\n",
      "[CV] kmeans__n_clusters=116 ..........................................\n",
      "[CV] ........................... kmeans__n_clusters=116, total=   3.5s\n",
      "[CV] kmeans__n_clusters=116 ..........................................\n",
      "[CV] ........................... kmeans__n_clusters=116, total=   3.5s\n",
      "[CV] kmeans__n_clusters=117 ..........................................\n",
      "[CV] ........................... kmeans__n_clusters=117, total=   3.6s\n",
      "[CV] kmeans__n_clusters=117 ..........................................\n",
      "[CV] ........................... kmeans__n_clusters=117, total=   3.5s\n",
      "[CV] kmeans__n_clusters=117 ..........................................\n",
      "[CV] ........................... kmeans__n_clusters=117, total=   3.5s\n",
      "[CV] kmeans__n_clusters=118 ..........................................\n",
      "[CV] ........................... kmeans__n_clusters=118, total=   3.2s\n",
      "[CV] kmeans__n_clusters=118 ..........................................\n"
     ]
    },
    {
     "name": "stdout",
     "output_type": "stream",
     "text": [
      "[CV] ........................... kmeans__n_clusters=118, total=   3.2s\n",
      "[CV] kmeans__n_clusters=118 ..........................................\n",
      "[CV] ........................... kmeans__n_clusters=118, total=   3.8s\n",
      "[CV] kmeans__n_clusters=119 ..........................................\n",
      "[CV] ........................... kmeans__n_clusters=119, total=   3.3s\n",
      "[CV] kmeans__n_clusters=119 ..........................................\n",
      "[CV] ........................... kmeans__n_clusters=119, total=   3.0s\n",
      "[CV] kmeans__n_clusters=119 ..........................................\n",
      "[CV] ........................... kmeans__n_clusters=119, total=   3.4s\n",
      "[CV] kmeans__n_clusters=120 ..........................................\n",
      "[CV] ........................... kmeans__n_clusters=120, total=   3.2s\n",
      "[CV] kmeans__n_clusters=120 ..........................................\n",
      "[CV] ........................... kmeans__n_clusters=120, total=   3.3s\n",
      "[CV] kmeans__n_clusters=120 ..........................................\n",
      "[CV] ........................... kmeans__n_clusters=120, total=   3.5s\n",
      "[CV] kmeans__n_clusters=121 ..........................................\n",
      "[CV] ........................... kmeans__n_clusters=121, total=   3.2s\n",
      "[CV] kmeans__n_clusters=121 ..........................................\n",
      "[CV] ........................... kmeans__n_clusters=121, total=   3.1s\n",
      "[CV] kmeans__n_clusters=121 ..........................................\n",
      "[CV] ........................... kmeans__n_clusters=121, total=   3.9s\n",
      "[CV] kmeans__n_clusters=122 ..........................................\n",
      "[CV] ........................... kmeans__n_clusters=122, total=   3.3s\n",
      "[CV] kmeans__n_clusters=122 ..........................................\n",
      "[CV] ........................... kmeans__n_clusters=122, total=   3.3s\n",
      "[CV] kmeans__n_clusters=122 ..........................................\n",
      "[CV] ........................... kmeans__n_clusters=122, total=   3.5s\n",
      "[CV] kmeans__n_clusters=123 ..........................................\n",
      "[CV] ........................... kmeans__n_clusters=123, total=   3.3s\n",
      "[CV] kmeans__n_clusters=123 ..........................................\n",
      "[CV] ........................... kmeans__n_clusters=123, total=   2.9s\n",
      "[CV] kmeans__n_clusters=123 ..........................................\n",
      "[CV] ........................... kmeans__n_clusters=123, total=   3.2s\n",
      "[CV] kmeans__n_clusters=124 ..........................................\n",
      "[CV] ........................... kmeans__n_clusters=124, total=   3.6s\n",
      "[CV] kmeans__n_clusters=124 ..........................................\n",
      "[CV] ........................... kmeans__n_clusters=124, total=   3.2s\n",
      "[CV] kmeans__n_clusters=124 ..........................................\n",
      "[CV] ........................... kmeans__n_clusters=124, total=   2.9s\n",
      "[CV] kmeans__n_clusters=125 ..........................................\n",
      "[CV] ........................... kmeans__n_clusters=125, total=   3.7s\n",
      "[CV] kmeans__n_clusters=125 ..........................................\n",
      "[CV] ........................... kmeans__n_clusters=125, total=   3.1s\n",
      "[CV] kmeans__n_clusters=125 ..........................................\n",
      "[CV] ........................... kmeans__n_clusters=125, total=   3.4s\n",
      "[CV] kmeans__n_clusters=126 ..........................................\n",
      "[CV] ........................... kmeans__n_clusters=126, total=   3.4s\n",
      "[CV] kmeans__n_clusters=126 ..........................................\n",
      "[CV] ........................... kmeans__n_clusters=126, total=   3.3s\n",
      "[CV] kmeans__n_clusters=126 ..........................................\n",
      "[CV] ........................... kmeans__n_clusters=126, total=   3.3s\n",
      "[CV] kmeans__n_clusters=127 ..........................................\n",
      "[CV] ........................... kmeans__n_clusters=127, total=   3.5s\n",
      "[CV] kmeans__n_clusters=127 ..........................................\n",
      "[CV] ........................... kmeans__n_clusters=127, total=   3.1s\n",
      "[CV] kmeans__n_clusters=127 ..........................................\n",
      "[CV] ........................... kmeans__n_clusters=127, total=   3.3s\n",
      "[CV] kmeans__n_clusters=128 ..........................................\n",
      "[CV] ........................... kmeans__n_clusters=128, total=   3.3s\n",
      "[CV] kmeans__n_clusters=128 ..........................................\n",
      "[CV] ........................... kmeans__n_clusters=128, total=   3.2s\n",
      "[CV] kmeans__n_clusters=128 ..........................................\n",
      "[CV] ........................... kmeans__n_clusters=128, total=   3.3s\n",
      "[CV] kmeans__n_clusters=129 ..........................................\n",
      "[CV] ........................... kmeans__n_clusters=129, total=   3.8s\n",
      "[CV] kmeans__n_clusters=129 ..........................................\n",
      "[CV] ........................... kmeans__n_clusters=129, total=   2.8s\n",
      "[CV] kmeans__n_clusters=129 ..........................................\n",
      "[CV] ........................... kmeans__n_clusters=129, total=   3.2s\n",
      "[CV] kmeans__n_clusters=130 ..........................................\n",
      "[CV] ........................... kmeans__n_clusters=130, total=   3.3s\n",
      "[CV] kmeans__n_clusters=130 ..........................................\n",
      "[CV] ........................... kmeans__n_clusters=130, total=   3.2s\n",
      "[CV] kmeans__n_clusters=130 ..........................................\n",
      "[CV] ........................... kmeans__n_clusters=130, total=   3.0s\n",
      "[CV] kmeans__n_clusters=131 ..........................................\n",
      "[CV] ........................... kmeans__n_clusters=131, total=   3.7s\n",
      "[CV] kmeans__n_clusters=131 ..........................................\n",
      "[CV] ........................... kmeans__n_clusters=131, total=   2.8s\n",
      "[CV] kmeans__n_clusters=131 ..........................................\n",
      "[CV] ........................... kmeans__n_clusters=131, total=   2.8s\n",
      "[CV] kmeans__n_clusters=132 ..........................................\n",
      "[CV] ........................... kmeans__n_clusters=132, total=   3.5s\n",
      "[CV] kmeans__n_clusters=132 ..........................................\n",
      "[CV] ........................... kmeans__n_clusters=132, total=   3.1s\n",
      "[CV] kmeans__n_clusters=132 ..........................................\n",
      "[CV] ........................... kmeans__n_clusters=132, total=   3.0s\n",
      "[CV] kmeans__n_clusters=133 ..........................................\n",
      "[CV] ........................... kmeans__n_clusters=133, total=   3.5s\n",
      "[CV] kmeans__n_clusters=133 ..........................................\n",
      "[CV] ........................... kmeans__n_clusters=133, total=   3.1s\n",
      "[CV] kmeans__n_clusters=133 ..........................................\n",
      "[CV] ........................... kmeans__n_clusters=133, total=   3.4s\n",
      "[CV] kmeans__n_clusters=134 ..........................................\n",
      "[CV] ........................... kmeans__n_clusters=134, total=   3.2s\n",
      "[CV] kmeans__n_clusters=134 ..........................................\n",
      "[CV] ........................... kmeans__n_clusters=134, total=   2.8s\n",
      "[CV] kmeans__n_clusters=134 ..........................................\n",
      "[CV] ........................... kmeans__n_clusters=134, total=   2.8s\n",
      "[CV] kmeans__n_clusters=135 ..........................................\n",
      "[CV] ........................... kmeans__n_clusters=135, total=   3.2s\n",
      "[CV] kmeans__n_clusters=135 ..........................................\n",
      "[CV] ........................... kmeans__n_clusters=135, total=   3.2s\n",
      "[CV] kmeans__n_clusters=135 ..........................................\n",
      "[CV] ........................... kmeans__n_clusters=135, total=   3.3s\n",
      "[CV] kmeans__n_clusters=136 ..........................................\n",
      "[CV] ........................... kmeans__n_clusters=136, total=   3.5s\n",
      "[CV] kmeans__n_clusters=136 ..........................................\n",
      "[CV] ........................... kmeans__n_clusters=136, total=   3.4s\n",
      "[CV] kmeans__n_clusters=136 ..........................................\n",
      "[CV] ........................... kmeans__n_clusters=136, total=   3.4s\n",
      "[CV] kmeans__n_clusters=137 ..........................................\n",
      "[CV] ........................... kmeans__n_clusters=137, total=   3.2s\n",
      "[CV] kmeans__n_clusters=137 ..........................................\n",
      "[CV] ........................... kmeans__n_clusters=137, total=   3.5s\n",
      "[CV] kmeans__n_clusters=137 ..........................................\n"
     ]
    },
    {
     "name": "stdout",
     "output_type": "stream",
     "text": [
      "[CV] ........................... kmeans__n_clusters=137, total=   2.9s\n",
      "[CV] kmeans__n_clusters=138 ..........................................\n",
      "[CV] ........................... kmeans__n_clusters=138, total=   3.4s\n",
      "[CV] kmeans__n_clusters=138 ..........................................\n",
      "[CV] ........................... kmeans__n_clusters=138, total=   3.0s\n",
      "[CV] kmeans__n_clusters=138 ..........................................\n",
      "[CV] ........................... kmeans__n_clusters=138, total=   3.4s\n",
      "[CV] kmeans__n_clusters=139 ..........................................\n",
      "[CV] ........................... kmeans__n_clusters=139, total=   3.7s\n",
      "[CV] kmeans__n_clusters=139 ..........................................\n",
      "[CV] ........................... kmeans__n_clusters=139, total=   3.7s\n",
      "[CV] kmeans__n_clusters=139 ..........................................\n",
      "[CV] ........................... kmeans__n_clusters=139, total=   3.4s\n",
      "[CV] kmeans__n_clusters=140 ..........................................\n",
      "[CV] ........................... kmeans__n_clusters=140, total=   3.5s\n",
      "[CV] kmeans__n_clusters=140 ..........................................\n",
      "[CV] ........................... kmeans__n_clusters=140, total=   3.4s\n",
      "[CV] kmeans__n_clusters=140 ..........................................\n",
      "[CV] ........................... kmeans__n_clusters=140, total=   3.0s\n",
      "[CV] kmeans__n_clusters=141 ..........................................\n",
      "[CV] ........................... kmeans__n_clusters=141, total=   3.4s\n",
      "[CV] kmeans__n_clusters=141 ..........................................\n",
      "[CV] ........................... kmeans__n_clusters=141, total=   3.7s\n",
      "[CV] kmeans__n_clusters=141 ..........................................\n",
      "[CV] ........................... kmeans__n_clusters=141, total=   3.1s\n",
      "[CV] kmeans__n_clusters=142 ..........................................\n",
      "[CV] ........................... kmeans__n_clusters=142, total=   3.5s\n",
      "[CV] kmeans__n_clusters=142 ..........................................\n",
      "[CV] ........................... kmeans__n_clusters=142, total=   3.6s\n",
      "[CV] kmeans__n_clusters=142 ..........................................\n",
      "[CV] ........................... kmeans__n_clusters=142, total=   3.2s\n",
      "[CV] kmeans__n_clusters=143 ..........................................\n",
      "[CV] ........................... kmeans__n_clusters=143, total=   3.1s\n",
      "[CV] kmeans__n_clusters=143 ..........................................\n",
      "[CV] ........................... kmeans__n_clusters=143, total=   3.6s\n",
      "[CV] kmeans__n_clusters=143 ..........................................\n",
      "[CV] ........................... kmeans__n_clusters=143, total=   3.3s\n",
      "[CV] kmeans__n_clusters=144 ..........................................\n",
      "[CV] ........................... kmeans__n_clusters=144, total=   3.4s\n",
      "[CV] kmeans__n_clusters=144 ..........................................\n",
      "[CV] ........................... kmeans__n_clusters=144, total=   3.6s\n",
      "[CV] kmeans__n_clusters=144 ..........................................\n",
      "[CV] ........................... kmeans__n_clusters=144, total=   2.8s\n",
      "[CV] kmeans__n_clusters=145 ..........................................\n",
      "[CV] ........................... kmeans__n_clusters=145, total=   3.5s\n",
      "[CV] kmeans__n_clusters=145 ..........................................\n",
      "[CV] ........................... kmeans__n_clusters=145, total=   3.5s\n",
      "[CV] kmeans__n_clusters=145 ..........................................\n",
      "[CV] ........................... kmeans__n_clusters=145, total=   3.4s\n",
      "[CV] kmeans__n_clusters=146 ..........................................\n",
      "[CV] ........................... kmeans__n_clusters=146, total=   3.6s\n",
      "[CV] kmeans__n_clusters=146 ..........................................\n",
      "[CV] ........................... kmeans__n_clusters=146, total=   3.2s\n",
      "[CV] kmeans__n_clusters=146 ..........................................\n",
      "[CV] ........................... kmeans__n_clusters=146, total=   3.0s\n",
      "[CV] kmeans__n_clusters=147 ..........................................\n",
      "[CV] ........................... kmeans__n_clusters=147, total=   3.6s\n",
      "[CV] kmeans__n_clusters=147 ..........................................\n",
      "[CV] ........................... kmeans__n_clusters=147, total=   3.4s\n",
      "[CV] kmeans__n_clusters=147 ..........................................\n",
      "[CV] ........................... kmeans__n_clusters=147, total=   3.3s\n",
      "[CV] kmeans__n_clusters=148 ..........................................\n",
      "[CV] ........................... kmeans__n_clusters=148, total=   3.8s\n",
      "[CV] kmeans__n_clusters=148 ..........................................\n",
      "[CV] ........................... kmeans__n_clusters=148, total=   3.4s\n",
      "[CV] kmeans__n_clusters=148 ..........................................\n",
      "[CV] ........................... kmeans__n_clusters=148, total=   3.1s\n",
      "[CV] kmeans__n_clusters=149 ..........................................\n",
      "[CV] ........................... kmeans__n_clusters=149, total=   3.4s\n",
      "[CV] kmeans__n_clusters=149 ..........................................\n",
      "[CV] ........................... kmeans__n_clusters=149, total=   3.8s\n",
      "[CV] kmeans__n_clusters=149 ..........................................\n",
      "[CV] ........................... kmeans__n_clusters=149, total=   3.4s\n",
      "[CV] kmeans__n_clusters=150 ..........................................\n",
      "[CV] ........................... kmeans__n_clusters=150, total=   3.7s\n",
      "[CV] kmeans__n_clusters=150 ..........................................\n",
      "[CV] ........................... kmeans__n_clusters=150, total=   3.4s\n",
      "[CV] kmeans__n_clusters=150 ..........................................\n",
      "[CV] ........................... kmeans__n_clusters=150, total=   3.9s\n",
      "[CV] kmeans__n_clusters=151 ..........................................\n",
      "[CV] ........................... kmeans__n_clusters=151, total=   3.2s\n",
      "[CV] kmeans__n_clusters=151 ..........................................\n",
      "[CV] ........................... kmeans__n_clusters=151, total=   3.5s\n",
      "[CV] kmeans__n_clusters=151 ..........................................\n",
      "[CV] ........................... kmeans__n_clusters=151, total=   3.5s\n",
      "[CV] kmeans__n_clusters=152 ..........................................\n",
      "[CV] ........................... kmeans__n_clusters=152, total=   3.5s\n",
      "[CV] kmeans__n_clusters=152 ..........................................\n",
      "[CV] ........................... kmeans__n_clusters=152, total=   3.3s\n",
      "[CV] kmeans__n_clusters=152 ..........................................\n",
      "[CV] ........................... kmeans__n_clusters=152, total=   3.5s\n",
      "[CV] kmeans__n_clusters=153 ..........................................\n",
      "[CV] ........................... kmeans__n_clusters=153, total=   3.6s\n",
      "[CV] kmeans__n_clusters=153 ..........................................\n",
      "[CV] ........................... kmeans__n_clusters=153, total=   3.3s\n",
      "[CV] kmeans__n_clusters=153 ..........................................\n",
      "[CV] ........................... kmeans__n_clusters=153, total=   4.1s\n",
      "[CV] kmeans__n_clusters=154 ..........................................\n",
      "[CV] ........................... kmeans__n_clusters=154, total=   3.8s\n",
      "[CV] kmeans__n_clusters=154 ..........................................\n",
      "[CV] ........................... kmeans__n_clusters=154, total=   3.4s\n",
      "[CV] kmeans__n_clusters=154 ..........................................\n",
      "[CV] ........................... kmeans__n_clusters=154, total=   3.7s\n",
      "[CV] kmeans__n_clusters=155 ..........................................\n",
      "[CV] ........................... kmeans__n_clusters=155, total=   3.4s\n",
      "[CV] kmeans__n_clusters=155 ..........................................\n",
      "[CV] ........................... kmeans__n_clusters=155, total=   3.4s\n",
      "[CV] kmeans__n_clusters=155 ..........................................\n",
      "[CV] ........................... kmeans__n_clusters=155, total=   3.4s\n",
      "[CV] kmeans__n_clusters=156 ..........................................\n",
      "[CV] ........................... kmeans__n_clusters=156, total=   3.8s\n",
      "[CV] kmeans__n_clusters=156 ..........................................\n",
      "[CV] ........................... kmeans__n_clusters=156, total=   3.3s\n",
      "[CV] kmeans__n_clusters=156 ..........................................\n",
      "[CV] ........................... kmeans__n_clusters=156, total=   3.3s\n",
      "[CV] kmeans__n_clusters=157 ..........................................\n"
     ]
    },
    {
     "name": "stdout",
     "output_type": "stream",
     "text": [
      "[CV] ........................... kmeans__n_clusters=157, total=   3.3s\n",
      "[CV] kmeans__n_clusters=157 ..........................................\n",
      "[CV] ........................... kmeans__n_clusters=157, total=   3.4s\n",
      "[CV] kmeans__n_clusters=157 ..........................................\n",
      "[CV] ........................... kmeans__n_clusters=157, total=   3.4s\n",
      "[CV] kmeans__n_clusters=158 ..........................................\n",
      "[CV] ........................... kmeans__n_clusters=158, total=   3.3s\n",
      "[CV] kmeans__n_clusters=158 ..........................................\n",
      "[CV] ........................... kmeans__n_clusters=158, total=   3.4s\n",
      "[CV] kmeans__n_clusters=158 ..........................................\n",
      "[CV] ........................... kmeans__n_clusters=158, total=   3.4s\n",
      "[CV] kmeans__n_clusters=159 ..........................................\n",
      "[CV] ........................... kmeans__n_clusters=159, total=   3.6s\n",
      "[CV] kmeans__n_clusters=159 ..........................................\n",
      "[CV] ........................... kmeans__n_clusters=159, total=   3.3s\n",
      "[CV] kmeans__n_clusters=159 ..........................................\n",
      "[CV] ........................... kmeans__n_clusters=159, total=   3.0s\n",
      "[CV] kmeans__n_clusters=160 ..........................................\n",
      "[CV] ........................... kmeans__n_clusters=160, total=   3.7s\n",
      "[CV] kmeans__n_clusters=160 ..........................................\n",
      "[CV] ........................... kmeans__n_clusters=160, total=   3.6s\n",
      "[CV] kmeans__n_clusters=160 ..........................................\n",
      "[CV] ........................... kmeans__n_clusters=160, total=   3.2s\n",
      "[CV] kmeans__n_clusters=161 ..........................................\n",
      "[CV] ........................... kmeans__n_clusters=161, total=   3.5s\n",
      "[CV] kmeans__n_clusters=161 ..........................................\n",
      "[CV] ........................... kmeans__n_clusters=161, total=   3.4s\n",
      "[CV] kmeans__n_clusters=161 ..........................................\n",
      "[CV] ........................... kmeans__n_clusters=161, total=   3.0s\n",
      "[CV] kmeans__n_clusters=162 ..........................................\n",
      "[CV] ........................... kmeans__n_clusters=162, total=   3.6s\n",
      "[CV] kmeans__n_clusters=162 ..........................................\n",
      "[CV] ........................... kmeans__n_clusters=162, total=   3.6s\n",
      "[CV] kmeans__n_clusters=162 ..........................................\n",
      "[CV] ........................... kmeans__n_clusters=162, total=   3.5s\n",
      "[CV] kmeans__n_clusters=163 ..........................................\n",
      "[CV] ........................... kmeans__n_clusters=163, total=   4.2s\n",
      "[CV] kmeans__n_clusters=163 ..........................................\n",
      "[CV] ........................... kmeans__n_clusters=163, total=   3.8s\n",
      "[CV] kmeans__n_clusters=163 ..........................................\n",
      "[CV] ........................... kmeans__n_clusters=163, total=   3.4s\n",
      "[CV] kmeans__n_clusters=164 ..........................................\n",
      "[CV] ........................... kmeans__n_clusters=164, total=   3.7s\n",
      "[CV] kmeans__n_clusters=164 ..........................................\n",
      "[CV] ........................... kmeans__n_clusters=164, total=   3.5s\n",
      "[CV] kmeans__n_clusters=164 ..........................................\n",
      "[CV] ........................... kmeans__n_clusters=164, total=   3.3s\n",
      "[CV] kmeans__n_clusters=165 ..........................................\n",
      "[CV] ........................... kmeans__n_clusters=165, total=   3.7s\n",
      "[CV] kmeans__n_clusters=165 ..........................................\n",
      "[CV] ........................... kmeans__n_clusters=165, total=   3.5s\n",
      "[CV] kmeans__n_clusters=165 ..........................................\n",
      "[CV] ........................... kmeans__n_clusters=165, total=   2.9s\n",
      "[CV] kmeans__n_clusters=166 ..........................................\n",
      "[CV] ........................... kmeans__n_clusters=166, total=   3.6s\n",
      "[CV] kmeans__n_clusters=166 ..........................................\n",
      "[CV] ........................... kmeans__n_clusters=166, total=   3.4s\n",
      "[CV] kmeans__n_clusters=166 ..........................................\n",
      "[CV] ........................... kmeans__n_clusters=166, total=   2.7s\n",
      "[CV] kmeans__n_clusters=167 ..........................................\n",
      "[CV] ........................... kmeans__n_clusters=167, total=   3.6s\n",
      "[CV] kmeans__n_clusters=167 ..........................................\n",
      "[CV] ........................... kmeans__n_clusters=167, total=   3.2s\n",
      "[CV] kmeans__n_clusters=167 ..........................................\n",
      "[CV] ........................... kmeans__n_clusters=167, total=   3.7s\n",
      "[CV] kmeans__n_clusters=168 ..........................................\n",
      "[CV] ........................... kmeans__n_clusters=168, total=   3.4s\n",
      "[CV] kmeans__n_clusters=168 ..........................................\n",
      "[CV] ........................... kmeans__n_clusters=168, total=   3.4s\n",
      "[CV] kmeans__n_clusters=168 ..........................................\n",
      "[CV] ........................... kmeans__n_clusters=168, total=   3.0s\n",
      "[CV] kmeans__n_clusters=169 ..........................................\n",
      "[CV] ........................... kmeans__n_clusters=169, total=   3.2s\n",
      "[CV] kmeans__n_clusters=169 ..........................................\n",
      "[CV] ........................... kmeans__n_clusters=169, total=   3.5s\n",
      "[CV] kmeans__n_clusters=169 ..........................................\n",
      "[CV] ........................... kmeans__n_clusters=169, total=   3.8s\n",
      "[CV] kmeans__n_clusters=170 ..........................................\n",
      "[CV] ........................... kmeans__n_clusters=170, total=   3.8s\n",
      "[CV] kmeans__n_clusters=170 ..........................................\n",
      "[CV] ........................... kmeans__n_clusters=170, total=   3.2s\n",
      "[CV] kmeans__n_clusters=170 ..........................................\n",
      "[CV] ........................... kmeans__n_clusters=170, total=   2.8s\n",
      "[CV] kmeans__n_clusters=171 ..........................................\n",
      "[CV] ........................... kmeans__n_clusters=171, total=   3.5s\n",
      "[CV] kmeans__n_clusters=171 ..........................................\n",
      "[CV] ........................... kmeans__n_clusters=171, total=   3.4s\n",
      "[CV] kmeans__n_clusters=171 ..........................................\n",
      "[CV] ........................... kmeans__n_clusters=171, total=   3.3s\n",
      "[CV] kmeans__n_clusters=172 ..........................................\n",
      "[CV] ........................... kmeans__n_clusters=172, total=   3.4s\n",
      "[CV] kmeans__n_clusters=172 ..........................................\n",
      "[CV] ........................... kmeans__n_clusters=172, total=   3.6s\n",
      "[CV] kmeans__n_clusters=172 ..........................................\n",
      "[CV] ........................... kmeans__n_clusters=172, total=   3.1s\n",
      "[CV] kmeans__n_clusters=173 ..........................................\n",
      "[CV] ........................... kmeans__n_clusters=173, total=   3.8s\n",
      "[CV] kmeans__n_clusters=173 ..........................................\n",
      "[CV] ........................... kmeans__n_clusters=173, total=   3.4s\n",
      "[CV] kmeans__n_clusters=173 ..........................................\n",
      "[CV] ........................... kmeans__n_clusters=173, total=   3.2s\n",
      "[CV] kmeans__n_clusters=174 ..........................................\n",
      "[CV] ........................... kmeans__n_clusters=174, total=   3.4s\n",
      "[CV] kmeans__n_clusters=174 ..........................................\n",
      "[CV] ........................... kmeans__n_clusters=174, total=   3.3s\n",
      "[CV] kmeans__n_clusters=174 ..........................................\n",
      "[CV] ........................... kmeans__n_clusters=174, total=   3.2s\n",
      "[CV] kmeans__n_clusters=175 ..........................................\n",
      "[CV] ........................... kmeans__n_clusters=175, total=   3.5s\n",
      "[CV] kmeans__n_clusters=175 ..........................................\n",
      "[CV] ........................... kmeans__n_clusters=175, total=   3.4s\n",
      "[CV] kmeans__n_clusters=175 ..........................................\n",
      "[CV] ........................... kmeans__n_clusters=175, total=   3.3s\n",
      "[CV] kmeans__n_clusters=176 ..........................................\n",
      "[CV] ........................... kmeans__n_clusters=176, total=   3.3s\n",
      "[CV] kmeans__n_clusters=176 ..........................................\n"
     ]
    },
    {
     "name": "stdout",
     "output_type": "stream",
     "text": [
      "[CV] ........................... kmeans__n_clusters=176, total=   3.3s\n",
      "[CV] kmeans__n_clusters=176 ..........................................\n",
      "[CV] ........................... kmeans__n_clusters=176, total=   3.0s\n",
      "[CV] kmeans__n_clusters=177 ..........................................\n",
      "[CV] ........................... kmeans__n_clusters=177, total=   4.1s\n",
      "[CV] kmeans__n_clusters=177 ..........................................\n",
      "[CV] ........................... kmeans__n_clusters=177, total=   3.4s\n",
      "[CV] kmeans__n_clusters=177 ..........................................\n",
      "[CV] ........................... kmeans__n_clusters=177, total=   2.9s\n",
      "[CV] kmeans__n_clusters=178 ..........................................\n",
      "[CV] ........................... kmeans__n_clusters=178, total=   3.9s\n",
      "[CV] kmeans__n_clusters=178 ..........................................\n",
      "[CV] ........................... kmeans__n_clusters=178, total=   3.4s\n",
      "[CV] kmeans__n_clusters=178 ..........................................\n",
      "[CV] ........................... kmeans__n_clusters=178, total=   3.3s\n",
      "[CV] kmeans__n_clusters=179 ..........................................\n",
      "[CV] ........................... kmeans__n_clusters=179, total=   3.6s\n",
      "[CV] kmeans__n_clusters=179 ..........................................\n",
      "[CV] ........................... kmeans__n_clusters=179, total=   3.7s\n",
      "[CV] kmeans__n_clusters=179 ..........................................\n",
      "[CV] ........................... kmeans__n_clusters=179, total=   3.2s\n",
      "[CV] kmeans__n_clusters=180 ..........................................\n",
      "[CV] ........................... kmeans__n_clusters=180, total=   3.4s\n",
      "[CV] kmeans__n_clusters=180 ..........................................\n",
      "[CV] ........................... kmeans__n_clusters=180, total=   3.6s\n",
      "[CV] kmeans__n_clusters=180 ..........................................\n",
      "[CV] ........................... kmeans__n_clusters=180, total=   2.9s\n",
      "[CV] kmeans__n_clusters=181 ..........................................\n",
      "[CV] ........................... kmeans__n_clusters=181, total=   4.1s\n",
      "[CV] kmeans__n_clusters=181 ..........................................\n",
      "[CV] ........................... kmeans__n_clusters=181, total=   3.4s\n",
      "[CV] kmeans__n_clusters=181 ..........................................\n",
      "[CV] ........................... kmeans__n_clusters=181, total=   3.2s\n",
      "[CV] kmeans__n_clusters=182 ..........................................\n",
      "[CV] ........................... kmeans__n_clusters=182, total=   3.5s\n",
      "[CV] kmeans__n_clusters=182 ..........................................\n",
      "[CV] ........................... kmeans__n_clusters=182, total=   3.0s\n",
      "[CV] kmeans__n_clusters=182 ..........................................\n",
      "[CV] ........................... kmeans__n_clusters=182, total=   2.7s\n",
      "[CV] kmeans__n_clusters=183 ..........................................\n",
      "[CV] ........................... kmeans__n_clusters=183, total=   3.8s\n",
      "[CV] kmeans__n_clusters=183 ..........................................\n",
      "[CV] ........................... kmeans__n_clusters=183, total=   3.0s\n",
      "[CV] kmeans__n_clusters=183 ..........................................\n",
      "[CV] ........................... kmeans__n_clusters=183, total=   2.9s\n",
      "[CV] kmeans__n_clusters=184 ..........................................\n",
      "[CV] ........................... kmeans__n_clusters=184, total=   3.5s\n",
      "[CV] kmeans__n_clusters=184 ..........................................\n",
      "[CV] ........................... kmeans__n_clusters=184, total=   3.4s\n",
      "[CV] kmeans__n_clusters=184 ..........................................\n",
      "[CV] ........................... kmeans__n_clusters=184, total=   3.3s\n",
      "[CV] kmeans__n_clusters=185 ..........................................\n",
      "[CV] ........................... kmeans__n_clusters=185, total=   3.7s\n",
      "[CV] kmeans__n_clusters=185 ..........................................\n",
      "[CV] ........................... kmeans__n_clusters=185, total=   3.3s\n",
      "[CV] kmeans__n_clusters=185 ..........................................\n",
      "[CV] ........................... kmeans__n_clusters=185, total=   3.2s\n",
      "[CV] kmeans__n_clusters=186 ..........................................\n",
      "[CV] ........................... kmeans__n_clusters=186, total=   3.6s\n",
      "[CV] kmeans__n_clusters=186 ..........................................\n",
      "[CV] ........................... kmeans__n_clusters=186, total=   3.5s\n",
      "[CV] kmeans__n_clusters=186 ..........................................\n",
      "[CV] ........................... kmeans__n_clusters=186, total=   3.2s\n",
      "[CV] kmeans__n_clusters=187 ..........................................\n",
      "[CV] ........................... kmeans__n_clusters=187, total=   3.7s\n",
      "[CV] kmeans__n_clusters=187 ..........................................\n",
      "[CV] ........................... kmeans__n_clusters=187, total=   3.5s\n",
      "[CV] kmeans__n_clusters=187 ..........................................\n",
      "[CV] ........................... kmeans__n_clusters=187, total=   3.0s\n",
      "[CV] kmeans__n_clusters=188 ..........................................\n",
      "[CV] ........................... kmeans__n_clusters=188, total=   3.1s\n",
      "[CV] kmeans__n_clusters=188 ..........................................\n",
      "[CV] ........................... kmeans__n_clusters=188, total=   3.6s\n",
      "[CV] kmeans__n_clusters=188 ..........................................\n",
      "[CV] ........................... kmeans__n_clusters=188, total=   3.2s\n",
      "[CV] kmeans__n_clusters=189 ..........................................\n",
      "[CV] ........................... kmeans__n_clusters=189, total=   3.3s\n",
      "[CV] kmeans__n_clusters=189 ..........................................\n",
      "[CV] ........................... kmeans__n_clusters=189, total=   3.6s\n",
      "[CV] kmeans__n_clusters=189 ..........................................\n",
      "[CV] ........................... kmeans__n_clusters=189, total=   2.9s\n",
      "[CV] kmeans__n_clusters=190 ..........................................\n",
      "[CV] ........................... kmeans__n_clusters=190, total=   3.3s\n",
      "[CV] kmeans__n_clusters=190 ..........................................\n",
      "[CV] ........................... kmeans__n_clusters=190, total=   3.5s\n",
      "[CV] kmeans__n_clusters=190 ..........................................\n",
      "[CV] ........................... kmeans__n_clusters=190, total=   2.9s\n",
      "[CV] kmeans__n_clusters=191 ..........................................\n",
      "[CV] ........................... kmeans__n_clusters=191, total=   3.2s\n",
      "[CV] kmeans__n_clusters=191 ..........................................\n",
      "[CV] ........................... kmeans__n_clusters=191, total=   3.2s\n",
      "[CV] kmeans__n_clusters=191 ..........................................\n",
      "[CV] ........................... kmeans__n_clusters=191, total=   2.8s\n",
      "[CV] kmeans__n_clusters=192 ..........................................\n",
      "[CV] ........................... kmeans__n_clusters=192, total=   3.4s\n",
      "[CV] kmeans__n_clusters=192 ..........................................\n",
      "[CV] ........................... kmeans__n_clusters=192, total=   3.5s\n",
      "[CV] kmeans__n_clusters=192 ..........................................\n",
      "[CV] ........................... kmeans__n_clusters=192, total=   3.1s\n",
      "[CV] kmeans__n_clusters=193 ..........................................\n",
      "[CV] ........................... kmeans__n_clusters=193, total=   3.8s\n",
      "[CV] kmeans__n_clusters=193 ..........................................\n",
      "[CV] ........................... kmeans__n_clusters=193, total=   3.5s\n",
      "[CV] kmeans__n_clusters=193 ..........................................\n",
      "[CV] ........................... kmeans__n_clusters=193, total=   2.7s\n",
      "[CV] kmeans__n_clusters=194 ..........................................\n",
      "[CV] ........................... kmeans__n_clusters=194, total=   2.8s\n",
      "[CV] kmeans__n_clusters=194 ..........................................\n",
      "[CV] ........................... kmeans__n_clusters=194, total=   3.8s\n",
      "[CV] kmeans__n_clusters=194 ..........................................\n",
      "[CV] ........................... kmeans__n_clusters=194, total=   2.6s\n",
      "[CV] kmeans__n_clusters=195 ..........................................\n",
      "[CV] ........................... kmeans__n_clusters=195, total=   3.4s\n",
      "[CV] kmeans__n_clusters=195 ..........................................\n",
      "[CV] ........................... kmeans__n_clusters=195, total=   3.4s\n",
      "[CV] kmeans__n_clusters=195 ..........................................\n"
     ]
    },
    {
     "name": "stdout",
     "output_type": "stream",
     "text": [
      "[CV] ........................... kmeans__n_clusters=195, total=   2.9s\n",
      "[CV] kmeans__n_clusters=196 ..........................................\n",
      "[CV] ........................... kmeans__n_clusters=196, total=   3.8s\n",
      "[CV] kmeans__n_clusters=196 ..........................................\n",
      "[CV] ........................... kmeans__n_clusters=196, total=   3.3s\n",
      "[CV] kmeans__n_clusters=196 ..........................................\n",
      "[CV] ........................... kmeans__n_clusters=196, total=   2.9s\n",
      "[CV] kmeans__n_clusters=197 ..........................................\n",
      "[CV] ........................... kmeans__n_clusters=197, total=   3.5s\n",
      "[CV] kmeans__n_clusters=197 ..........................................\n",
      "[CV] ........................... kmeans__n_clusters=197, total=   3.4s\n",
      "[CV] kmeans__n_clusters=197 ..........................................\n",
      "[CV] ........................... kmeans__n_clusters=197, total=   3.3s\n",
      "[CV] kmeans__n_clusters=198 ..........................................\n",
      "[CV] ........................... kmeans__n_clusters=198, total=   3.8s\n",
      "[CV] kmeans__n_clusters=198 ..........................................\n",
      "[CV] ........................... kmeans__n_clusters=198, total=   3.6s\n",
      "[CV] kmeans__n_clusters=198 ..........................................\n",
      "[CV] ........................... kmeans__n_clusters=198, total=   2.8s\n",
      "[CV] kmeans__n_clusters=199 ..........................................\n",
      "[CV] ........................... kmeans__n_clusters=199, total=   3.7s\n",
      "[CV] kmeans__n_clusters=199 ..........................................\n",
      "[CV] ........................... kmeans__n_clusters=199, total=   3.5s\n",
      "[CV] kmeans__n_clusters=199 ..........................................\n",
      "[CV] ........................... kmeans__n_clusters=199, total=   2.9s\n"
     ]
    },
    {
     "name": "stderr",
     "output_type": "stream",
     "text": [
      "[Parallel(n_jobs=1)]: Done 594 out of 594 | elapsed: 29.2min finished\n"
     ]
    },
    {
     "data": {
      "text/plain": [
       "GridSearchCV(cv=3, error_score=nan,\n",
       "             estimator=Pipeline(memory=None,\n",
       "                                steps=[('kmeans',\n",
       "                                        KMeans(algorithm='auto', copy_x=True,\n",
       "                                               init='k-means++', max_iter=300,\n",
       "                                               n_clusters=50, n_init=10,\n",
       "                                               n_jobs=None,\n",
       "                                               precompute_distances='auto',\n",
       "                                               random_state=42, tol=0.0001,\n",
       "                                               verbose=0)),\n",
       "                                       ('log_reg',\n",
       "                                        LogisticRegression(C=1.0,\n",
       "                                                           class_weight=None,\n",
       "                                                           dual=False,\n",
       "                                                           fit_intercept=True,\n",
       "                                                           intercept_scaling=1,\n",
       "                                                           l1_ratio=None,\n",
       "                                                           max_iter=5000,\n",
       "                                                           multi_class='ovr',\n",
       "                                                           n_jobs=None,\n",
       "                                                           penalty='l2',\n",
       "                                                           random_state=42,\n",
       "                                                           solver='lbfgs',\n",
       "                                                           tol=0.0001,\n",
       "                                                           verbose=0,\n",
       "                                                           warm_start=False))],\n",
       "                                verbose=False),\n",
       "             iid='deprecated', n_jobs=None,\n",
       "             param_grid={'kmeans__n_clusters': range(2, 200)},\n",
       "             pre_dispatch='2*n_jobs', refit=True, return_train_score=False,\n",
       "             scoring=None, verbose=2)"
      ]
     },
     "execution_count": 79,
     "metadata": {},
     "output_type": "execute_result"
    }
   ],
   "source": [
    "param_grid = dict(kmeans__n_clusters = range(2,50))\n",
    "grid_clf = GridSearchCV(pipeline, param_grid, cv=3, verbose=2)\n",
    "grid_clf.fit(X_train, y_train)"
   ]
  },
  {
   "cell_type": "code",
   "execution_count": 80,
   "metadata": {},
   "outputs": [
    {
     "data": {
      "text/plain": [
       "0.9777777777777777"
      ]
     },
     "execution_count": 80,
     "metadata": {},
     "output_type": "execute_result"
    }
   ],
   "source": [
    "grid_clf.score(X_test, y_test)"
   ]
  },
  {
   "cell_type": "code",
   "execution_count": 81,
   "metadata": {},
   "outputs": [
    {
     "data": {
      "text/plain": [
       "{'kmeans__n_clusters': 168}"
      ]
     },
     "execution_count": 81,
     "metadata": {},
     "output_type": "execute_result"
    }
   ],
   "source": [
    "grid_clf.best_params_"
   ]
  },
  {
   "cell_type": "markdown",
   "metadata": {},
   "source": [
    "### Semi-supervised learning"
   ]
  },
  {
   "cell_type": "code",
   "execution_count": 74,
   "metadata": {},
   "outputs": [
    {
     "name": "stderr",
     "output_type": "stream",
     "text": [
      "/Users/sidparmar/opt/anaconda3/lib/python3.7/site-packages/sklearn/linear_model/logistic.py:947: ConvergenceWarning: lbfgs failed to converge. Increase the number of iterations.\n",
      "  \"of iterations.\", ConvergenceWarning)\n"
     ]
    },
    {
     "data": {
      "text/plain": [
       "0.86"
      ]
     },
     "execution_count": 74,
     "metadata": {},
     "output_type": "execute_result"
    }
   ],
   "source": [
    "n_labeled = 50\n",
    "log_reg = LogisticRegression(multi_class=\"ovr\", solver=\"lbfgs\", random_state=42)\n",
    "log_reg.fit(X_train[:n_labeled], y_train[:n_labeled])\n",
    "log_reg.score(X_test, y_test)"
   ]
  },
  {
   "cell_type": "code",
   "execution_count": 75,
   "metadata": {},
   "outputs": [],
   "source": [
    "k = 50"
   ]
  },
  {
   "cell_type": "code",
   "execution_count": 76,
   "metadata": {},
   "outputs": [],
   "source": [
    "kmeans = KMeans(n_clusters=k, random_state=42)\n",
    "X_digits_dist = kmeans.fit_transform(X_train)\n",
    "representative_digit_idx = np.argmin(X_digits_dist, axis=0)\n",
    "X_representative_digits = X_train[representative_digit_idx]"
   ]
  },
  {
   "cell_type": "code",
   "execution_count": 77,
   "metadata": {},
   "outputs": [
    {
     "data": {
      "image/png": "[encoded data removed]",
      "text/plain": [
       "<Figure size 576x144 with 50 Axes>"
      ]
     },
     "metadata": {
      "needs_background": "light"
     },
     "output_type": "display_data"
    }
   ],
   "source": [
    "plt.figure(figsize=(8, 2))\n",
    "for index, X_representative_digit in enumerate(X_representative_digits):\n",
    "    plt.subplot(k // 10, 10, index + 1)\n",
    "    plt.imshow(X_representative_digit.reshape(8, 8), cmap=\"binary\", interpolation=\"bilinear\")\n",
    "    plt.axis('off')\n",
    "\n",
    "plt.show()"
   ]
  },
  {
   "cell_type": "code",
   "execution_count": 93,
   "metadata": {},
   "outputs": [],
   "source": [
    "y_representative_digits = np.array([\n",
    "    8, 0, 7, 1, 1, 6, 2, 4, 5, 9,\n",
    "    4, 2, 1, 3, 9, 8, 8, 7, 6, 2,\n",
    "    9, 8, 5, 4, 5, 7, 9, 1, 4, 5,\n",
    "    6, 2, 3, 0, 4, 3, 6, 7, 9, 0,\n",
    "    6, 3, 2, 8, 1, 9, 4, 3, 5, 7])"
   ]
  },
  {
   "cell_type": "code",
   "execution_count": 94,
   "metadata": {},
   "outputs": [
    {
     "data": {
      "text/plain": [
       "0.9133333333333333"
      ]
     },
     "execution_count": 94,
     "metadata": {},
     "output_type": "execute_result"
    }
   ],
   "source": [
    "log_reg = LogisticRegression(multi_class=\"ovr\", solver=\"lbfgs\", max_iter=5000, random_state=42)\n",
    "log_reg.fit(X_representative_digits, y_representative_digits)\n",
    "log_reg.score(X_test, y_test)"
   ]
  },
  {
   "cell_type": "markdown",
   "metadata": {},
   "source": [
    "label propagation"
   ]
  },
  {
   "cell_type": "code",
   "execution_count": 105,
   "metadata": {},
   "outputs": [],
   "source": [
    "y_train_propagated = np.empty(len(X_train), dtype=np.int32)\n",
    "\n",
    "for i in range(k):\n",
    "    y_train_propagated[kmeans.labels_ == i] = y_representative_digits[i]"
   ]
  },
  {
   "cell_type": "code",
   "execution_count": 106,
   "metadata": {},
   "outputs": [
    {
     "data": {
      "text/plain": [
       "0.9311111111111111"
      ]
     },
     "execution_count": 106,
     "metadata": {},
     "output_type": "execute_result"
    }
   ],
   "source": [
    "log_reg = LogisticRegression(multi_class=\"ovr\", solver=\"lbfgs\", max_iter=5000, random_state=42)\n",
    "log_reg.fit(X_train, y_train_propagated)\n",
    "log_reg.score(X_test, y_test)"
   ]
  },
  {
   "cell_type": "code",
   "execution_count": 111,
   "metadata": {},
   "outputs": [],
   "source": [
    "percentile_closest = 20\n",
    "\n",
    "X_cluster_dist = X_digits_dist[np.arange(len(X_train)), kmeans.labels_]\n",
    "for i in range(k):\n",
    "    in_cluster = (kmeans.labels_ == i)\n",
    "    cluster_dist = X_cluster_dist[in_cluster]\n",
    "    cutoff_distance = np.percentile(cluster_dist, percentile_closest)\n",
    "    above_cutoff = (X_cluster_dist > cutoff_distance)\n",
    "    X_cluster_dist[in_cluster & above_cutoff] = -1"
   ]
  },
  {
   "cell_type": "code",
   "execution_count": 112,
   "metadata": {},
   "outputs": [],
   "source": [
    "partially_propagated = (X_cluster_dist != -1)\n",
    "X_train_partially_propagated = X_train[partially_propagated]\n",
    "y_train_partially_propagated = y_train_propagated[partially_propagated]"
   ]
  },
  {
   "cell_type": "code",
   "execution_count": 114,
   "metadata": {},
   "outputs": [
    {
     "data": {
      "text/plain": [
       "LogisticRegression(C=1.0, class_weight=None, dual=False, fit_intercept=True,\n",
       "                   intercept_scaling=1, l1_ratio=None, max_iter=5000,\n",
       "                   multi_class='ovr', n_jobs=None, penalty='l2',\n",
       "                   random_state=42, solver='lbfgs', tol=0.0001, verbose=0,\n",
       "                   warm_start=False)"
      ]
     },
     "execution_count": 114,
     "metadata": {},
     "output_type": "execute_result"
    }
   ],
   "source": [
    "log_reg = LogisticRegression(multi_class=\"ovr\", solver=\"lbfgs\", max_iter=5000, random_state=42)\n",
    "log_reg.fit(X_train_partially_propagated, y_train_partially_propagated)"
   ]
  },
  {
   "cell_type": "code",
   "execution_count": 115,
   "metadata": {},
   "outputs": [
    {
     "data": {
      "text/plain": [
       "0.8955555555555555"
      ]
     },
     "execution_count": 115,
     "metadata": {},
     "output_type": "execute_result"
    }
   ],
   "source": [
    "log_reg.score(X_test, y_test)"
   ]
  },
  {
   "cell_type": "markdown",
   "metadata": {},
   "source": [
    "^ score should be higher than last score. It should be around 94%"
   ]
  },
  {
   "cell_type": "code",
   "execution_count": 116,
   "metadata": {},
   "outputs": [
    {
     "data": {
      "text/plain": [
       "0.9686411149825784"
      ]
     },
     "execution_count": 116,
     "metadata": {},
     "output_type": "execute_result"
    }
   ],
   "source": [
    "np.mean(y_train_partially_propagated == y_train[partially_propagated])"
   ]
  },
  {
   "cell_type": "markdown",
   "metadata": {},
   "source": [
    "### DBSCAN"
   ]
  },
  {
   "cell_type": "code",
   "execution_count": 1,
   "metadata": {},
   "outputs": [],
   "source": [
    "from sklearn.cluster import DBSCAN"
   ]
  },
  {
   "cell_type": "code",
   "execution_count": 2,
   "metadata": {},
   "outputs": [],
   "source": [
    "from sklearn.datasets import make_moons"
   ]
  },
  {
   "cell_type": "code",
   "execution_count": 3,
   "metadata": {},
   "outputs": [
    {
     "data": {
      "text/plain": [
       "DBSCAN(algorithm='auto', eps=0.05, leaf_size=30, metric='euclidean',\n",
       "       metric_params=None, min_samples=5, n_jobs=None, p=None)"
      ]
     },
     "execution_count": 3,
     "metadata": {},
     "output_type": "execute_result"
    }
   ],
   "source": [
    "X,y = make_moons(n_samples=1000, noise=0.05)\n",
    "dbscan = DBSCAN(eps=0.05, min_samples=5)\n",
    "dbscan.fit(X)"
   ]
  },
  {
   "cell_type": "code",
   "execution_count": 4,
   "metadata": {},
   "outputs": [
    {
     "data": {
      "text/plain": [
       "array([ 0,  1,  2,  3, -1,  0,  4,  0,  4,  4,  4,  1,  0,  6,  5,  4,  6,\n",
       "        2, -1,  6,  4,  4, -1,  1,  2,  4,  4,  4,  2,  4,  4,  0,  4,  4,\n",
       "        4,  4,  5,  0,  6, -1,  2,  4,  2, -1,  5,  3,  3,  4,  4,  0,  5,\n",
       "        6,  2,  3,  3,  6,  4, -1,  1,  4,  6,  5,  6,  6,  4,  4,  7,  6,\n",
       "        0,  4,  0,  4,  4,  6,  0,  4,  4,  6,  0,  0,  3,  6,  5,  8,  4,\n",
       "        0,  4,  1,  8,  3,  4,  1,  0,  6, -1,  3,  4,  4,  4,  3,  4,  4,\n",
       "       -1, -1,  5,  8,  0,  0,  0, -1,  2,  8,  6,  0,  6, -1,  6,  6,  1,\n",
       "       -1,  5, -1,  8,  8, -1,  4,  4, -1,  2,  6,  8,  6,  4,  0,  6,  1,\n",
       "        4,  5,  5,  6,  6,  4,  1,  6,  4,  6,  6,  3,  6,  6,  1,  6,  0,\n",
       "        6,  2,  4,  3,  3,  0,  4,  4,  2,  8,  9,  6,  1,  0,  0,  1, -1,\n",
       "       -1,  6,  5,  5,  2,  1,  4,  2,  1,  5,  4,  6,  2,  3,  3,  6,  4,\n",
       "        4,  4,  6,  4,  1,  5,  6,  4,  6,  7,  3,  2,  0,  0,  6,  4, -1,\n",
       "       10,  6,  6,  5,  0,  3,  1,  6, -1,  1,  1,  3, -1,  5,  4,  4,  4,\n",
       "        6,  6,  4,  0,  2,  8,  6,  1,  4, -1,  6,  4, -1,  2,  6,  0,  0,\n",
       "        4,  3,  0,  0,  3,  4,  6,  6,  4,  9,  4,  6,  3, 10,  0,  3,  6,\n",
       "        0,  0,  4,  1,  1,  6, -1,  8,  6,  1,  6,  2,  4,  6,  8,  4,  2,\n",
       "        3,  6, -1,  6,  4,  4,  0,  6,  4,  4,  0,  0,  0,  8,  4,  8,  1,\n",
       "       -1,  0,  0,  4,  6,  8,  4, -1,  8,  4,  6,  4,  6,  5,  4,  9,  4,\n",
       "        3,  3,  8,  6,  6,  4,  8,  6,  6,  8,  6,  0,  5,  4,  3,  4,  4,\n",
       "        6,  0,  8,  0,  1,  6,  8,  0,  4,  2,  3,  3,  8,  2,  4,  3,  6,\n",
       "        5,  4,  5, -1,  4,  6, -1,  6, -1,  3,  2,  6,  6,  3,  4,  2,  2,\n",
       "        2, -1,  3,  4,  4,  4,  6,  3,  0, -1,  0,  3,  0,  0,  4,  1,  0,\n",
       "        6,  7, -1,  0, 10,  0,  6,  3,  3,  0,  5,  6,  4,  0,  1, -1, -1,\n",
       "        6,  6, -1,  4,  5,  4,  6,  0,  4,  6,  0,  2,  4,  4,  6,  6,  8,\n",
       "        4,  6,  0, -1,  0,  0,  6,  2,  4,  0,  6,  6, 10,  2,  4,  6,  2,\n",
       "        3,  8, -1,  1,  0,  4,  4,  1,  4,  3,  4,  8,  4,  3,  0,  6,  6,\n",
       "        0,  0,  3,  2,  6,  2,  6,  3,  5, -1,  0,  4, -1,  6,  4, -1,  3,\n",
       "        6,  1,  2,  4,  5,  6,  6,  0,  0,  2, -1,  3,  4,  5,  6,  6,  4,\n",
       "        4,  2,  6,  4,  0,  3,  6,  0,  2,  3, -1,  4,  1,  0,  4,  3,  4,\n",
       "        9,  8,  5,  8,  0,  6,  4,  6,  3,  2,  4,  8,  0,  0,  6,  4,  4,\n",
       "        1,  8,  0,  4,  6,  3,  2,  4,  6,  0,  5,  3,  0,  6,  4, 10,  6,\n",
       "        4,  0,  2,  0,  2,  0,  1,  8,  3,  2,  6,  6,  4,  4,  0,  2,  4,\n",
       "        4,  2,  1,  2,  2,  3, -1,  0,  4,  2,  8,  6,  5,  6,  3,  3,  0,\n",
       "        6,  4,  4,  4,  5,  3,  6,  5, -1,  3,  2, -1,  5,  2,  0,  4, -1,\n",
       "        4,  4,  3,  4,  1,  6, -1,  3,  3,  7,  1,  2,  7,  3,  1, -1,  2,\n",
       "        4,  0,  4,  4,  5,  0,  0,  6,  8,  6,  4,  6,  0,  6,  2,  6,  4,\n",
       "        2,  2,  3,  0,  4,  4,  1,  3,  6,  1,  3,  3, -1,  4,  1,  3,  4,\n",
       "        6,  4,  3, -1,  1,  0,  8,  4,  1,  3,  7,  0,  6,  3,  4,  2,  1,\n",
       "        3, -1,  6,  2,  0,  4,  4,  2,  4,  8,  6,  4,  6,  4,  0,  8,  4,\n",
       "        4,  4,  4,  4,  8,  0,  4,  4,  5,  1,  6,  2,  1,  6,  6,  2,  4,\n",
       "        0,  0,  6,  6,  3,  2,  2,  6,  2,  7,  6,  5,  6,  2,  0,  4,  1,\n",
       "        4,  4,  3,  4,  0,  4,  6,  0,  4,  3, -1,  4,  3,  6,  6,  3,  2,\n",
       "        0,  0,  8, -1,  0,  6,  1,  6,  0,  4,  4,  5,  1, -1,  4,  6,  2,\n",
       "        4,  3,  4,  4,  6,  8, -1,  6,  6,  8,  0,  4,  3,  3,  4,  4,  4,\n",
       "       -1,  3,  1,  4,  5,  1,  4,  4,  2, -1,  5,  2,  0,  1,  1,  3,  6,\n",
       "        4,  6,  3,  0,  4,  3,  6,  2, -1,  2,  3,  4,  3,  2,  6,  1,  4,\n",
       "        6,  0,  0,  5,  4,  4,  3, -1,  4,  4,  3,  4,  1,  4,  3,  4,  2,\n",
       "        2,  1,  6,  0,  0, 10,  3,  5,  6, -1,  6, -1,  0,  6,  0,  6,  2,\n",
       "        4,  1,  2,  4,  2,  4,  0, -1,  2,  5,  6,  1,  4,  7,  2, -1,  1,\n",
       "        6,  9,  0,  3,  4,  4,  4,  6,  0,  4,  6,  4,  4,  4, -1,  0,  4,\n",
       "        0,  0,  2,  4,  4,  2,  2,  3,  0,  4,  5,  4,  6,  4,  3,  5, -1,\n",
       "       -1,  5,  6, -1,  4,  6,  0,  4,  2, -1,  4,  6,  6,  3,  2,  4,  3,\n",
       "        4,  4,  3,  6,  6,  4,  4,  8,  6,  3,  6,  2,  4,  8,  6,  0,  4,\n",
       "       -1,  3,  6,  4,  4,  6,  4, -1,  0,  3,  1, -1,  6,  8,  7,  2,  3,\n",
       "        3,  1, -1,  0, -1,  6,  0,  1,  4,  0,  0, -1,  6,  2, -1,  4,  6,\n",
       "        1,  2,  4,  3, -1,  8,  6,  1, -1,  5,  8,  4,  3,  0,  8,  6,  1,\n",
       "        6,  5,  3, -1,  4,  2,  2,  3, -1,  2,  4,  0,  6,  4,  4,  6,  4,\n",
       "       -1, 10,  4,  6,  4,  0,  6,  2,  0,  4,  8,  0,  6,  6,  4,  6, -1,\n",
       "        4,  4,  2,  6,  3,  2,  4,  0,  4,  4, 10,  6,  6,  0])"
      ]
     },
     "execution_count": 4,
     "metadata": {},
     "output_type": "execute_result"
    }
   ],
   "source": [
    "dbscan.labels_"
   ]
  },
  {
   "cell_type": "code",
   "execution_count": 5,
   "metadata": {},
   "outputs": [
    {
     "data": {
      "text/plain": [
       "787"
      ]
     },
     "execution_count": 5,
     "metadata": {},
     "output_type": "execute_result"
    }
   ],
   "source": [
    "len(dbscan.core_sample_indices_)"
   ]
  },
  {
   "cell_type": "code",
   "execution_count": 6,
   "metadata": {},
   "outputs": [
    {
     "data": {
      "text/plain": [
       "array([  0,   1,   2,   3,   5,   6,   7,   8,   9,  10,  12,  14,  15,\n",
       "        16,  19,  20,  21,  23,  27,  28,  29,  31,  32,  33,  34,  35,\n",
       "        36,  37,  38,  40,  41,  42,  45,  46,  47,  48,  49,  50,  51,\n",
       "        52,  53,  54,  55,  56,  58,  59,  60,  61,  62,  63,  64,  65,\n",
       "        66,  67,  68,  69,  70,  71,  72,  73,  74,  75,  76,  77,  78,\n",
       "        79,  80,  81,  82,  83,  84,  85,  86,  87,  88,  89,  90,  91,\n",
       "        93,  95,  97,  98,  99, 100, 101, 104, 105, 106, 107, 108, 110,\n",
       "       112, 113, 114, 116, 117, 118, 120, 122, 125, 126, 128, 129, 130,\n",
       "       131, 132, 133, 134, 135, 138, 139, 140, 141, 142, 143, 144, 145,\n",
       "       146, 147, 148, 149, 151, 152, 153, 154, 155, 156, 157, 159, 160,\n",
       "       161, 163, 164, 165, 166, 168, 171, 172, 173, 174, 175, 176, 177,\n",
       "       178, 179, 180, 181, 182, 183, 184, 185, 186, 187, 188, 190, 191,\n",
       "       192, 193, 194, 195, 197, 198, 199, 200, 201, 202, 205, 206, 207,\n",
       "       208, 209, 210, 211, 213, 215, 217, 219, 220, 221, 222, 225, 226,\n",
       "       227, 228, 229, 231, 232, 234, 235, 236, 237, 238, 239, 240, 241,\n",
       "       243, 244, 245, 247, 248, 249, 250, 251, 252, 253, 254, 255, 256,\n",
       "       257, 258, 260, 262, 263, 265, 266, 267, 268, 270, 271, 272, 275,\n",
       "       276, 278, 279, 280, 281, 282, 283, 284, 285, 286, 287, 288, 290,\n",
       "       291, 292, 293, 294, 297, 300, 302, 303, 306, 307, 308, 310, 311,\n",
       "       313, 314, 316, 317, 318, 319, 321, 322, 323, 325, 326, 327, 328,\n",
       "       330, 331, 333, 334, 335, 336, 337, 338, 340, 341, 342, 344, 345,\n",
       "       347, 350, 351, 352, 353, 355, 356, 357, 359, 361, 362, 364, 365,\n",
       "       369, 370, 371, 372, 373, 374, 375, 377, 378, 379, 380, 381, 382,\n",
       "       383, 384, 386, 387, 388, 391, 392, 395, 396, 397, 398, 399, 400,\n",
       "       401, 402, 403, 404, 405, 406, 407, 408, 410, 412, 413, 414, 415,\n",
       "       416, 417, 418, 419, 422, 424, 425, 426, 428, 430, 431, 432, 433,\n",
       "       434, 435, 436, 437, 441, 442, 443, 444, 445, 446, 447, 448, 449,\n",
       "       450, 453, 455, 456, 458, 459, 460, 461, 463, 464, 465, 466, 467,\n",
       "       468, 470, 471, 472, 473, 474, 475, 476, 478, 481, 482, 483, 484,\n",
       "       485, 487, 488, 489, 490, 491, 492, 494, 495, 496, 498, 499, 500,\n",
       "       501, 502, 503, 504, 505, 506, 507, 508, 509, 510, 511, 512, 513,\n",
       "       514, 515, 516, 517, 518, 519, 520, 521, 522, 524, 526, 527, 528,\n",
       "       529, 530, 531, 533, 534, 535, 536, 537, 538, 539, 540, 541, 542,\n",
       "       543, 544, 545, 546, 547, 548, 549, 551, 552, 553, 554, 555, 556,\n",
       "       557, 558, 559, 560, 561, 562, 563, 564, 565, 568, 570, 571, 573,\n",
       "       574, 575, 576, 578, 580, 581, 582, 583, 586, 587, 588, 589, 591,\n",
       "       592, 594, 595, 597, 598, 599, 600, 601, 602, 603, 604, 605, 606,\n",
       "       607, 608, 609, 611, 612, 614, 615, 616, 617, 618, 619, 620, 621,\n",
       "       623, 625, 626, 629, 630, 631, 634, 635, 636, 637, 638, 639, 640,\n",
       "       641, 642, 644, 645, 646, 648, 649, 650, 651, 652, 653, 654, 655,\n",
       "       656, 657, 658, 659, 660, 661, 663, 664, 665, 666, 668, 669, 670,\n",
       "       671, 672, 673, 674, 675, 676, 677, 678, 679, 680, 681, 682, 683,\n",
       "       684, 686, 687, 688, 689, 690, 691, 692, 693, 694, 695, 698, 699,\n",
       "       700, 701, 702, 703, 704, 705, 706, 708, 709, 710, 711, 712, 713,\n",
       "       715, 716, 718, 719, 720, 722, 723, 724, 725, 726, 728, 729, 731,\n",
       "       732, 733, 734, 735, 738, 739, 740, 742, 743, 744, 746, 749, 751,\n",
       "       752, 754, 755, 758, 759, 760, 761, 762, 763, 764, 765, 766, 767,\n",
       "       768, 769, 770, 771, 774, 775, 777, 778, 779, 780, 781, 782, 783,\n",
       "       784, 786, 788, 790, 791, 792, 793, 794, 795, 796, 797, 799, 800,\n",
       "       802, 803, 805, 806, 807, 809, 811, 813, 814, 815, 816, 817, 818,\n",
       "       820, 821, 822, 824, 825, 826, 827, 829, 830, 832, 835, 836, 837,\n",
       "       838, 839, 840, 841, 843, 845, 846, 848, 849, 850, 851, 852, 853,\n",
       "       854, 855, 856, 857, 858, 860, 861, 862, 864, 865, 868, 869, 872,\n",
       "       873, 874, 875, 877, 878, 879, 880, 881, 882, 883, 884, 885, 886,\n",
       "       888, 889, 890, 891, 892, 893, 895, 896, 897, 898, 899, 900, 903,\n",
       "       905, 906, 909, 910, 911, 913, 914, 917, 918, 919, 921, 923, 925,\n",
       "       926, 927, 930, 931, 933, 934, 935, 936, 937, 938, 940, 941, 942,\n",
       "       944, 945, 946, 947, 948, 949, 950, 951, 953, 954, 956, 957, 958,\n",
       "       959, 961, 962, 963, 964, 965, 967, 968, 970, 971, 973, 974, 975,\n",
       "       976, 977, 978, 979, 981, 982, 983, 984, 986, 987, 988, 989, 990,\n",
       "       991, 992, 993, 994, 997, 998, 999])"
      ]
     },
     "execution_count": 6,
     "metadata": {},
     "output_type": "execute_result"
    }
   ],
   "source": [
    "dbscan.core_sample_indices_"
   ]
  },
  {
   "cell_type": "code",
   "execution_count": 7,
   "metadata": {},
   "outputs": [
    {
     "data": {
      "text/plain": [
       "array([[ 6.55464549e-01,  7.05758649e-01],\n",
       "       [ 1.89730801e+00, -3.97988083e-02],\n",
       "       [ 5.36601653e-01,  7.57207145e-01],\n",
       "       ...,\n",
       "       [ 1.58063770e-06,  1.53612712e-01],\n",
       "       [ 3.92381876e-02,  3.26018127e-01],\n",
       "       [ 8.68711943e-01,  6.44511233e-01]])"
      ]
     },
     "execution_count": 7,
     "metadata": {},
     "output_type": "execute_result"
    }
   ],
   "source": [
    "dbscan.components_"
   ]
  },
  {
   "cell_type": "markdown",
   "metadata": {},
   "source": [
    "#### Change eps to 0.2 for improvement "
   ]
  },
  {
   "cell_type": "code",
   "execution_count": 13,
   "metadata": {},
   "outputs": [
    {
     "data": {
      "text/plain": [
       "DBSCAN(algorithm='auto', eps=0.2, leaf_size=30, metric='euclidean',\n",
       "       metric_params=None, min_samples=5, n_jobs=None, p=None)"
      ]
     },
     "execution_count": 13,
     "metadata": {},
     "output_type": "execute_result"
    }
   ],
   "source": [
    "dbscan = DBSCAN(eps=0.2, min_samples=5)\n",
    "dbscan.fit(X)"
   ]
  },
  {
   "cell_type": "code",
   "execution_count": 14,
   "metadata": {},
   "outputs": [
    {
     "data": {
      "text/plain": [
       "array([0, 1, 0, 1, 0, 0, 0, 0, 0, 0, 0, 1, 0, 1, 1, 0, 1, 0, 1, 1, 0, 0,\n",
       "       0, 1, 0, 0, 0, 0, 0, 0, 0, 0, 0, 0, 0, 0, 1, 0, 1, 0, 0, 0, 0, 1,\n",
       "       1, 1, 1, 0, 0, 0, 1, 1, 0, 1, 1, 1, 0, 0, 1, 0, 1, 1, 1, 1, 0, 0,\n",
       "       1, 1, 0, 0, 0, 0, 0, 1, 0, 0, 0, 1, 0, 0, 1, 1, 1, 1, 0, 0, 0, 1,\n",
       "       1, 1, 0, 1, 0, 1, 1, 1, 0, 0, 0, 1, 0, 0, 0, 0, 1, 1, 0, 0, 0, 0,\n",
       "       0, 1, 1, 0, 1, 0, 1, 1, 1, 1, 1, 1, 1, 1, 0, 0, 0, 0, 0, 1, 1, 1,\n",
       "       0, 0, 1, 1, 0, 1, 1, 1, 1, 0, 1, 1, 0, 1, 1, 1, 1, 1, 1, 1, 0, 1,\n",
       "       0, 0, 1, 1, 0, 0, 0, 0, 1, 1, 1, 1, 0, 0, 1, 1, 1, 1, 1, 1, 0, 1,\n",
       "       0, 0, 1, 1, 0, 1, 0, 1, 1, 1, 0, 0, 0, 1, 0, 1, 1, 1, 0, 1, 1, 1,\n",
       "       0, 0, 0, 1, 0, 1, 1, 1, 1, 1, 0, 1, 1, 1, 1, 1, 1, 1, 0, 1, 0, 0,\n",
       "       0, 1, 1, 0, 0, 0, 1, 1, 1, 0, 0, 1, 0, 0, 0, 1, 0, 0, 0, 1, 0, 0,\n",
       "       1, 0, 1, 1, 0, 1, 0, 1, 1, 1, 0, 1, 1, 0, 0, 0, 1, 1, 1, 1, 1, 1,\n",
       "       1, 1, 0, 0, 1, 1, 0, 0, 1, 1, 0, 1, 0, 0, 0, 1, 0, 0, 0, 0, 0, 1,\n",
       "       0, 1, 1, 0, 0, 0, 0, 1, 1, 0, 1, 1, 0, 1, 0, 1, 1, 0, 1, 0, 1, 1,\n",
       "       1, 1, 1, 0, 1, 1, 1, 1, 1, 0, 1, 0, 1, 0, 0, 1, 0, 1, 0, 1, 1, 1,\n",
       "       0, 0, 0, 1, 1, 1, 0, 0, 1, 1, 1, 0, 1, 1, 0, 1, 1, 1, 1, 1, 0, 1,\n",
       "       1, 1, 0, 0, 0, 0, 0, 1, 0, 0, 0, 1, 1, 0, 0, 0, 1, 0, 0, 0, 1, 0,\n",
       "       1, 1, 0, 0, 1, 0, 1, 1, 1, 0, 1, 1, 0, 0, 1, 1, 1, 1, 1, 0, 0, 1,\n",
       "       0, 1, 0, 0, 1, 0, 0, 0, 0, 1, 1, 1, 0, 1, 0, 0, 0, 0, 1, 0, 0, 0,\n",
       "       1, 1, 1, 0, 0, 1, 0, 1, 1, 1, 1, 0, 0, 0, 1, 0, 1, 0, 1, 0, 1, 0,\n",
       "       1, 1, 0, 0, 1, 0, 1, 0, 1, 1, 1, 0, 0, 0, 0, 1, 0, 1, 1, 1, 1, 0,\n",
       "       0, 1, 1, 1, 0, 0, 0, 1, 1, 0, 1, 1, 1, 0, 0, 0, 1, 0, 0, 1, 1, 0,\n",
       "       0, 1, 0, 0, 1, 0, 0, 1, 0, 1, 1, 1, 1, 0, 1, 0, 1, 1, 0, 0, 1, 0,\n",
       "       0, 1, 0, 0, 1, 1, 0, 0, 1, 1, 0, 0, 1, 0, 1, 1, 0, 1, 0, 1, 1, 0,\n",
       "       0, 0, 0, 0, 0, 1, 1, 1, 0, 1, 1, 0, 0, 0, 0, 0, 0, 0, 1, 0, 0, 1,\n",
       "       1, 0, 0, 0, 1, 1, 1, 1, 1, 1, 0, 1, 0, 0, 0, 1, 1, 1, 1, 0, 1, 0,\n",
       "       1, 1, 0, 0, 0, 1, 0, 0, 1, 0, 1, 1, 0, 1, 1, 1, 1, 0, 1, 1, 1, 1,\n",
       "       0, 0, 0, 0, 0, 1, 0, 0, 1, 1, 1, 0, 1, 0, 1, 0, 1, 0, 0, 0, 1, 0,\n",
       "       0, 0, 1, 1, 1, 1, 1, 1, 0, 0, 1, 1, 0, 1, 0, 1, 0, 1, 0, 1, 0, 1,\n",
       "       1, 1, 0, 1, 1, 0, 0, 1, 1, 1, 1, 0, 0, 0, 0, 0, 0, 1, 1, 0, 1, 0,\n",
       "       0, 1, 0, 0, 0, 0, 0, 1, 0, 0, 0, 1, 1, 1, 0, 1, 1, 1, 0, 0, 0, 0,\n",
       "       1, 1, 1, 0, 0, 1, 0, 1, 1, 1, 1, 0, 0, 0, 1, 0, 0, 1, 0, 0, 0, 1,\n",
       "       0, 0, 1, 1, 0, 1, 1, 1, 1, 0, 0, 0, 1, 1, 0, 1, 1, 1, 0, 0, 0, 1,\n",
       "       1, 0, 0, 1, 0, 0, 1, 0, 0, 1, 1, 0, 1, 1, 1, 0, 0, 1, 1, 0, 0, 0,\n",
       "       0, 1, 1, 0, 1, 1, 0, 0, 0, 1, 1, 0, 0, 1, 1, 1, 1, 0, 1, 1, 0, 0,\n",
       "       1, 1, 0, 0, 0, 1, 0, 1, 0, 1, 1, 0, 1, 0, 0, 1, 0, 0, 1, 1, 0, 0,\n",
       "       1, 0, 1, 0, 1, 0, 0, 0, 1, 1, 0, 0, 1, 1, 1, 1, 1, 1, 0, 0, 1, 0,\n",
       "       1, 0, 0, 1, 0, 0, 0, 0, 0, 0, 0, 1, 1, 1, 0, 1, 0, 1, 1, 1, 1, 0,\n",
       "       1, 0, 0, 0, 1, 0, 0, 1, 0, 0, 0, 1, 0, 0, 0, 0, 0, 0, 0, 0, 0, 1,\n",
       "       0, 0, 1, 0, 1, 0, 1, 1, 0, 1, 1, 1, 0, 0, 1, 0, 0, 0, 1, 0, 1, 1,\n",
       "       1, 0, 0, 1, 0, 0, 1, 1, 1, 0, 0, 1, 1, 1, 1, 0, 0, 1, 1, 0, 0, 1,\n",
       "       1, 1, 0, 0, 1, 0, 1, 0, 1, 1, 1, 1, 1, 1, 0, 1, 1, 1, 1, 0, 1, 1,\n",
       "       0, 1, 0, 0, 0, 0, 1, 0, 1, 0, 1, 1, 0, 0, 1, 0, 1, 1, 1, 1, 1, 1,\n",
       "       0, 1, 0, 1, 1, 1, 1, 1, 1, 0, 0, 0, 0, 1, 0, 0, 0, 0, 1, 0, 0, 1,\n",
       "       0, 0, 1, 0, 1, 0, 0, 1, 0, 0, 0, 1, 0, 1, 1, 0, 1, 0, 0, 0, 0, 1,\n",
       "       1, 0, 0, 0, 0, 0, 1, 1, 1, 0])"
      ]
     },
     "execution_count": 14,
     "metadata": {},
     "output_type": "execute_result"
    }
   ],
   "source": [
    "dbscan.labels_"
   ]
  },
  {
   "cell_type": "code",
   "execution_count": 15,
   "metadata": {},
   "outputs": [
    {
     "data": {
      "text/plain": [
       "1000"
      ]
     },
     "execution_count": 15,
     "metadata": {},
     "output_type": "execute_result"
    }
   ],
   "source": [
    "len(dbscan.core_sample_indices_)"
   ]
  },
  {
   "cell_type": "code",
   "execution_count": 17,
   "metadata": {},
   "outputs": [
    {
     "data": {
      "text/plain": [
       "array([[ 6.55464549e-01,  7.05758649e-01],\n",
       "       [ 1.89730801e+00, -3.97988083e-02],\n",
       "       [ 5.36601653e-01,  7.57207145e-01],\n",
       "       ...,\n",
       "       [ 1.58063770e-06,  1.53612712e-01],\n",
       "       [ 3.92381876e-02,  3.26018127e-01],\n",
       "       [ 8.68711943e-01,  6.44511233e-01]])"
      ]
     },
     "execution_count": 17,
     "metadata": {},
     "output_type": "execute_result"
    }
   ],
   "source": [
    "dbscan.components_"
   ]
  },
  {
   "cell_type": "code",
   "execution_count": null,
   "metadata": {},
   "outputs": [],
   "source": []
  }
 ],
 "metadata": {
  "kernelspec": {
   "display_name": "Python 3",
   "language": "python",
   "name": "python3"
  },
  "language_info": {
   "codemirror_mode": {
    "name": "ipython",
    "version": 3
   },
   "file_extension": ".py",
   "mimetype": "text/x-python",
   "name": "python",
   "nbconvert_exporter": "python",
   "pygments_lexer": "ipython3",
   "version": "3.7.4"
  }
 },
 "nbformat": 4,
 "nbformat_minor": 4
}
